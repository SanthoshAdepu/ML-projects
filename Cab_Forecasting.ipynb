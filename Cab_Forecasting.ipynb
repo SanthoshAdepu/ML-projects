{
  "nbformat": 4,
  "nbformat_minor": 0,
  "metadata": {
    "colab": {
      "name": "Cab  Forecasting.ipynb",
      "provenance": [],
      "collapsed_sections": []
    },
    "kernelspec": {
      "name": "python3",
      "display_name": "Python 3"
    },
    "language_info": {
      "name": "python"
    },
    "accelerator": "TPU"
  },
  "cells": [
    {
      "cell_type": "markdown",
      "metadata": {
        "id": "imht0ZL_k2yE"
      },
      "source": [
        "## 1. Import the required libraries and load the training and testing dataset. "
      ]
    },
    {
      "cell_type": "markdown",
      "metadata": {
        "id": "3SlGw7LUtFbJ"
      },
      "source": [
        "#####  See the value of multiple statements at once.\n",
        "#####  output for all commands in python jupyter notebook."
      ]
    },
    {
      "cell_type": "code",
      "metadata": {
        "id": "-5vTyl8tTi56"
      },
      "source": [
        "from IPython.core.interactiveshell import InteractiveShell\n",
        "InteractiveShell.ast_node_interactivity = \"all\""
      ],
      "execution_count": null,
      "outputs": []
    },
    {
      "cell_type": "markdown",
      "metadata": {
        "id": "S2st5AlEtR8y"
      },
      "source": [
        "##### Import the required libraries."
      ]
    },
    {
      "cell_type": "code",
      "metadata": {
        "id": "PBTnmNMjtPlT"
      },
      "source": [
        "import pandas as pd\n",
        "import numpy as np\n",
        "import matplotlib.pyplot as plt\n",
        "import seaborn as sns\n",
        "%matplotlib inline\n",
        "\n",
        "import warnings\n",
        "warnings.filterwarnings(\"ignore\")\n",
        "\n",
        "from sklearn.model_selection import train_test_split\n",
        "from sklearn.linear_model import LinearRegression, ridge_regression\n",
        "from sklearn.svm import SVR\n",
        "from sklearn.ensemble import RandomForestRegressor,AdaBoostRegressor,BaggingRegressor\n",
        "from sklearn.neighbors import KNeighborsRegressor\n",
        "from sklearn.metrics import accuracy_score,mean_squared_error,r2_score\n",
        "from sklearn.model_selection import GridSearchCV"
      ],
      "execution_count": null,
      "outputs": []
    },
    {
      "cell_type": "markdown",
      "metadata": {
        "id": "TJaLSjzYtlHi"
      },
      "source": [
        "##### Checking the current working directory."
      ]
    },
    {
      "cell_type": "code",
      "metadata": {
        "colab": {
          "base_uri": "https://localhost:8080/",
          "height": 35
        },
        "id": "k-KUY8p1UZ-P",
        "outputId": "6730864a-dc02-46c3-db31-3bdf63e8b8bc"
      },
      "source": [
        "pwd"
      ],
      "execution_count": null,
      "outputs": [
        {
          "output_type": "execute_result",
          "data": {
            "application/vnd.google.colaboratory.intrinsic+json": {
              "type": "string"
            },
            "text/plain": [
              "'/content/drive/My Drive/data'"
            ]
          },
          "metadata": {},
          "execution_count": 131
        }
      ]
    },
    {
      "cell_type": "markdown",
      "metadata": {
        "id": "se9EBuP2tp2B"
      },
      "source": [
        "##### Importing os library to change the directory where the folder resides in the drive."
      ]
    },
    {
      "cell_type": "code",
      "metadata": {
        "id": "Vl0nERfTUhIv"
      },
      "source": [
        "import os\n",
        "os.chdir('/content/drive/MyDrive/data')"
      ],
      "execution_count": null,
      "outputs": []
    },
    {
      "cell_type": "markdown",
      "metadata": {
        "id": "Dm74dljHtwSz"
      },
      "source": [
        "##### Listing out the number of files in the folder."
      ]
    },
    {
      "cell_type": "code",
      "metadata": {
        "colab": {
          "base_uri": "https://localhost:8080/"
        },
        "id": "G0VzWGBWVZ7q",
        "outputId": "dd1958e5-c47c-46b3-edc8-d2c5c46cb6d8"
      },
      "source": [
        "!ls"
      ],
      "execution_count": null,
      "outputs": [
        {
          "output_type": "stream",
          "name": "stdout",
          "text": [
            "test.csv  test_label.csv  train.csv  train_label.csv\n"
          ]
        }
      ]
    },
    {
      "cell_type": "markdown",
      "metadata": {
        "id": "zLakVc7zt8us"
      },
      "source": [
        "##### INDEPENDENT VARIABLES and DEPENDENT VARIABLES are in seperate files for training & tesing data.\n",
        "##### Reading the IDV and DV of training and testing data using pandas read_csv() function."
      ]
    },
    {
      "cell_type": "code",
      "metadata": {
        "colab": {
          "base_uri": "https://localhost:8080/",
          "height": 774
        },
        "id": "Q2UqDeTpVfcE",
        "outputId": "7a894e12-1bbc-4bda-d970-de3a15a2449d"
      },
      "source": [
        "training_idv = pd.read_csv('train.csv')\n",
        "training_dv = pd.read_csv('train_label.csv')\n",
        "testing_idv = pd.read_csv('test.csv')\n",
        "testing_dv = pd.read_csv('test_label.csv')\n",
        "training_idv.head()\n",
        "training_dv.head()\n",
        "testing_idv.head()\n",
        "testing_dv.head()"
      ],
      "execution_count": null,
      "outputs": [
        {
          "output_type": "execute_result",
          "data": {
            "text/html": [
              "<div>\n",
              "<style scoped>\n",
              "    .dataframe tbody tr th:only-of-type {\n",
              "        vertical-align: middle;\n",
              "    }\n",
              "\n",
              "    .dataframe tbody tr th {\n",
              "        vertical-align: top;\n",
              "    }\n",
              "\n",
              "    .dataframe thead th {\n",
              "        text-align: right;\n",
              "    }\n",
              "</style>\n",
              "<table border=\"1\" class=\"dataframe\">\n",
              "  <thead>\n",
              "    <tr style=\"text-align: right;\">\n",
              "      <th></th>\n",
              "      <th>datetime</th>\n",
              "      <th>season</th>\n",
              "      <th>holiday</th>\n",
              "      <th>workingday</th>\n",
              "      <th>weather</th>\n",
              "      <th>temp</th>\n",
              "      <th>atemp</th>\n",
              "      <th>humidity</th>\n",
              "      <th>windspeed</th>\n",
              "    </tr>\n",
              "  </thead>\n",
              "  <tbody>\n",
              "    <tr>\n",
              "      <th>0</th>\n",
              "      <td>5/2/2012 19:00</td>\n",
              "      <td>Summer</td>\n",
              "      <td>0</td>\n",
              "      <td>1</td>\n",
              "      <td>Clear + Few clouds</td>\n",
              "      <td>22.14</td>\n",
              "      <td>25.760</td>\n",
              "      <td>77</td>\n",
              "      <td>16.9979</td>\n",
              "    </tr>\n",
              "    <tr>\n",
              "      <th>1</th>\n",
              "      <td>9/5/2012 4:00</td>\n",
              "      <td>Fall</td>\n",
              "      <td>0</td>\n",
              "      <td>1</td>\n",
              "      <td>Clear + Few clouds</td>\n",
              "      <td>28.70</td>\n",
              "      <td>33.335</td>\n",
              "      <td>79</td>\n",
              "      <td>19.0012</td>\n",
              "    </tr>\n",
              "    <tr>\n",
              "      <th>2</th>\n",
              "      <td>1/13/2011 9:00</td>\n",
              "      <td>Spring</td>\n",
              "      <td>0</td>\n",
              "      <td>1</td>\n",
              "      <td>Clear + Few clouds</td>\n",
              "      <td>5.74</td>\n",
              "      <td>6.060</td>\n",
              "      <td>50</td>\n",
              "      <td>22.0028</td>\n",
              "    </tr>\n",
              "    <tr>\n",
              "      <th>3</th>\n",
              "      <td>11/18/2011 16:00</td>\n",
              "      <td>Winter</td>\n",
              "      <td>0</td>\n",
              "      <td>1</td>\n",
              "      <td>Clear + Few clouds</td>\n",
              "      <td>13.94</td>\n",
              "      <td>16.665</td>\n",
              "      <td>29</td>\n",
              "      <td>8.9981</td>\n",
              "    </tr>\n",
              "    <tr>\n",
              "      <th>4</th>\n",
              "      <td>9/13/2011 13:00</td>\n",
              "      <td>Fall</td>\n",
              "      <td>0</td>\n",
              "      <td>1</td>\n",
              "      <td>Clear + Few clouds</td>\n",
              "      <td>30.34</td>\n",
              "      <td>33.335</td>\n",
              "      <td>51</td>\n",
              "      <td>19.0012</td>\n",
              "    </tr>\n",
              "  </tbody>\n",
              "</table>\n",
              "</div>"
            ],
            "text/plain": [
              "           datetime  season  holiday  ...   atemp humidity  windspeed\n",
              "0    5/2/2012 19:00  Summer        0  ...  25.760       77    16.9979\n",
              "1     9/5/2012 4:00    Fall        0  ...  33.335       79    19.0012\n",
              "2    1/13/2011 9:00  Spring        0  ...   6.060       50    22.0028\n",
              "3  11/18/2011 16:00  Winter        0  ...  16.665       29     8.9981\n",
              "4   9/13/2011 13:00    Fall        0  ...  33.335       51    19.0012\n",
              "\n",
              "[5 rows x 9 columns]"
            ]
          },
          "metadata": {},
          "execution_count": 134
        },
        {
          "output_type": "execute_result",
          "data": {
            "text/html": [
              "<div>\n",
              "<style scoped>\n",
              "    .dataframe tbody tr th:only-of-type {\n",
              "        vertical-align: middle;\n",
              "    }\n",
              "\n",
              "    .dataframe tbody tr th {\n",
              "        vertical-align: top;\n",
              "    }\n",
              "\n",
              "    .dataframe thead th {\n",
              "        text-align: right;\n",
              "    }\n",
              "</style>\n",
              "<table border=\"1\" class=\"dataframe\">\n",
              "  <thead>\n",
              "    <tr style=\"text-align: right;\">\n",
              "      <th></th>\n",
              "      <th>504</th>\n",
              "    </tr>\n",
              "  </thead>\n",
              "  <tbody>\n",
              "    <tr>\n",
              "      <th>0</th>\n",
              "      <td>5</td>\n",
              "    </tr>\n",
              "    <tr>\n",
              "      <th>1</th>\n",
              "      <td>139</td>\n",
              "    </tr>\n",
              "    <tr>\n",
              "      <th>2</th>\n",
              "      <td>209</td>\n",
              "    </tr>\n",
              "    <tr>\n",
              "      <th>3</th>\n",
              "      <td>184</td>\n",
              "    </tr>\n",
              "    <tr>\n",
              "      <th>4</th>\n",
              "      <td>791</td>\n",
              "    </tr>\n",
              "  </tbody>\n",
              "</table>\n",
              "</div>"
            ],
            "text/plain": [
              "   504\n",
              "0    5\n",
              "1  139\n",
              "2  209\n",
              "3  184\n",
              "4  791"
            ]
          },
          "metadata": {},
          "execution_count": 134
        },
        {
          "output_type": "execute_result",
          "data": {
            "text/html": [
              "<div>\n",
              "<style scoped>\n",
              "    .dataframe tbody tr th:only-of-type {\n",
              "        vertical-align: middle;\n",
              "    }\n",
              "\n",
              "    .dataframe tbody tr th {\n",
              "        vertical-align: top;\n",
              "    }\n",
              "\n",
              "    .dataframe thead th {\n",
              "        text-align: right;\n",
              "    }\n",
              "</style>\n",
              "<table border=\"1\" class=\"dataframe\">\n",
              "  <thead>\n",
              "    <tr style=\"text-align: right;\">\n",
              "      <th></th>\n",
              "      <th>datetime</th>\n",
              "      <th>season</th>\n",
              "      <th>holiday</th>\n",
              "      <th>workingday</th>\n",
              "      <th>weather</th>\n",
              "      <th>temp</th>\n",
              "      <th>atemp</th>\n",
              "      <th>humidity</th>\n",
              "      <th>windspeed</th>\n",
              "    </tr>\n",
              "  </thead>\n",
              "  <tbody>\n",
              "    <tr>\n",
              "      <th>0</th>\n",
              "      <td>5/10/2012 11:00</td>\n",
              "      <td>Summer</td>\n",
              "      <td>0</td>\n",
              "      <td>1</td>\n",
              "      <td>Clear + Few clouds</td>\n",
              "      <td>21.32</td>\n",
              "      <td>25.000</td>\n",
              "      <td>48</td>\n",
              "      <td>35.0008</td>\n",
              "    </tr>\n",
              "    <tr>\n",
              "      <th>1</th>\n",
              "      <td>6/9/2012 7:00</td>\n",
              "      <td>Summer</td>\n",
              "      <td>0</td>\n",
              "      <td>0</td>\n",
              "      <td>Clear + Few clouds</td>\n",
              "      <td>23.78</td>\n",
              "      <td>27.275</td>\n",
              "      <td>64</td>\n",
              "      <td>7.0015</td>\n",
              "    </tr>\n",
              "    <tr>\n",
              "      <th>2</th>\n",
              "      <td>3/6/2011 20:00</td>\n",
              "      <td>Spring</td>\n",
              "      <td>0</td>\n",
              "      <td>0</td>\n",
              "      <td>Light Snow, Light Rain</td>\n",
              "      <td>11.48</td>\n",
              "      <td>12.120</td>\n",
              "      <td>100</td>\n",
              "      <td>27.9993</td>\n",
              "    </tr>\n",
              "    <tr>\n",
              "      <th>3</th>\n",
              "      <td>10/13/2011 11:00</td>\n",
              "      <td>Winter</td>\n",
              "      <td>0</td>\n",
              "      <td>1</td>\n",
              "      <td>Mist + Cloudy</td>\n",
              "      <td>25.42</td>\n",
              "      <td>28.790</td>\n",
              "      <td>83</td>\n",
              "      <td>0.0000</td>\n",
              "    </tr>\n",
              "    <tr>\n",
              "      <th>4</th>\n",
              "      <td>6/2/2012 12:00</td>\n",
              "      <td>Summer</td>\n",
              "      <td>0</td>\n",
              "      <td>0</td>\n",
              "      <td>Clear + Few clouds</td>\n",
              "      <td>25.42</td>\n",
              "      <td>31.060</td>\n",
              "      <td>43</td>\n",
              "      <td>23.9994</td>\n",
              "    </tr>\n",
              "  </tbody>\n",
              "</table>\n",
              "</div>"
            ],
            "text/plain": [
              "           datetime  season  holiday  ...   atemp humidity  windspeed\n",
              "0   5/10/2012 11:00  Summer        0  ...  25.000       48    35.0008\n",
              "1     6/9/2012 7:00  Summer        0  ...  27.275       64     7.0015\n",
              "2    3/6/2011 20:00  Spring        0  ...  12.120      100    27.9993\n",
              "3  10/13/2011 11:00  Winter        0  ...  28.790       83     0.0000\n",
              "4    6/2/2012 12:00  Summer        0  ...  31.060       43    23.9994\n",
              "\n",
              "[5 rows x 9 columns]"
            ]
          },
          "metadata": {},
          "execution_count": 134
        },
        {
          "output_type": "execute_result",
          "data": {
            "text/html": [
              "<div>\n",
              "<style scoped>\n",
              "    .dataframe tbody tr th:only-of-type {\n",
              "        vertical-align: middle;\n",
              "    }\n",
              "\n",
              "    .dataframe tbody tr th {\n",
              "        vertical-align: top;\n",
              "    }\n",
              "\n",
              "    .dataframe thead th {\n",
              "        text-align: right;\n",
              "    }\n",
              "</style>\n",
              "<table border=\"1\" class=\"dataframe\">\n",
              "  <thead>\n",
              "    <tr style=\"text-align: right;\">\n",
              "      <th></th>\n",
              "      <th>256</th>\n",
              "    </tr>\n",
              "  </thead>\n",
              "  <tbody>\n",
              "    <tr>\n",
              "      <th>0</th>\n",
              "      <td>87</td>\n",
              "    </tr>\n",
              "    <tr>\n",
              "      <th>1</th>\n",
              "      <td>11</td>\n",
              "    </tr>\n",
              "    <tr>\n",
              "      <th>2</th>\n",
              "      <td>84</td>\n",
              "    </tr>\n",
              "    <tr>\n",
              "      <th>3</th>\n",
              "      <td>668</td>\n",
              "    </tr>\n",
              "    <tr>\n",
              "      <th>4</th>\n",
              "      <td>53</td>\n",
              "    </tr>\n",
              "  </tbody>\n",
              "</table>\n",
              "</div>"
            ],
            "text/plain": [
              "   256\n",
              "0   87\n",
              "1   11\n",
              "2   84\n",
              "3  668\n",
              "4   53"
            ]
          },
          "metadata": {},
          "execution_count": 134
        }
      ]
    },
    {
      "cell_type": "markdown",
      "metadata": {
        "id": "BbvW1EPluJQe"
      },
      "source": [
        "##### DV files - train_label.csv & test_label.csv doesn't have any column name to prevent that said header - None and given the column name explicitly as 'Total_booking'."
      ]
    },
    {
      "cell_type": "code",
      "metadata": {
        "colab": {
          "base_uri": "https://localhost:8080/",
          "height": 830
        },
        "id": "ja2MTIc1gs0s",
        "outputId": "fd228a33-1ada-4f7e-d732-02211801a3ba"
      },
      "source": [
        "training_dv = pd.read_csv('train_label.csv',header=None,names=['Total_booking'])\n",
        "training_dv\n",
        "testing_dv = pd.read_csv('test_label.csv',header=None,names=['Total_booking'])\n",
        "testing_dv"
      ],
      "execution_count": null,
      "outputs": [
        {
          "output_type": "execute_result",
          "data": {
            "text/html": [
              "<div>\n",
              "<style scoped>\n",
              "    .dataframe tbody tr th:only-of-type {\n",
              "        vertical-align: middle;\n",
              "    }\n",
              "\n",
              "    .dataframe tbody tr th {\n",
              "        vertical-align: top;\n",
              "    }\n",
              "\n",
              "    .dataframe thead th {\n",
              "        text-align: right;\n",
              "    }\n",
              "</style>\n",
              "<table border=\"1\" class=\"dataframe\">\n",
              "  <thead>\n",
              "    <tr style=\"text-align: right;\">\n",
              "      <th></th>\n",
              "      <th>Total_booking</th>\n",
              "    </tr>\n",
              "  </thead>\n",
              "  <tbody>\n",
              "    <tr>\n",
              "      <th>0</th>\n",
              "      <td>504</td>\n",
              "    </tr>\n",
              "    <tr>\n",
              "      <th>1</th>\n",
              "      <td>5</td>\n",
              "    </tr>\n",
              "    <tr>\n",
              "      <th>2</th>\n",
              "      <td>139</td>\n",
              "    </tr>\n",
              "    <tr>\n",
              "      <th>3</th>\n",
              "      <td>209</td>\n",
              "    </tr>\n",
              "    <tr>\n",
              "      <th>4</th>\n",
              "      <td>184</td>\n",
              "    </tr>\n",
              "    <tr>\n",
              "      <th>...</th>\n",
              "      <td>...</td>\n",
              "    </tr>\n",
              "    <tr>\n",
              "      <th>8703</th>\n",
              "      <td>13</td>\n",
              "    </tr>\n",
              "    <tr>\n",
              "      <th>8704</th>\n",
              "      <td>11</td>\n",
              "    </tr>\n",
              "    <tr>\n",
              "      <th>8705</th>\n",
              "      <td>1</td>\n",
              "    </tr>\n",
              "    <tr>\n",
              "      <th>8706</th>\n",
              "      <td>92</td>\n",
              "    </tr>\n",
              "    <tr>\n",
              "      <th>8707</th>\n",
              "      <td>31</td>\n",
              "    </tr>\n",
              "  </tbody>\n",
              "</table>\n",
              "<p>8708 rows × 1 columns</p>\n",
              "</div>"
            ],
            "text/plain": [
              "      Total_booking\n",
              "0               504\n",
              "1                 5\n",
              "2               139\n",
              "3               209\n",
              "4               184\n",
              "...             ...\n",
              "8703             13\n",
              "8704             11\n",
              "8705              1\n",
              "8706             92\n",
              "8707             31\n",
              "\n",
              "[8708 rows x 1 columns]"
            ]
          },
          "metadata": {},
          "execution_count": 135
        },
        {
          "output_type": "execute_result",
          "data": {
            "text/html": [
              "<div>\n",
              "<style scoped>\n",
              "    .dataframe tbody tr th:only-of-type {\n",
              "        vertical-align: middle;\n",
              "    }\n",
              "\n",
              "    .dataframe tbody tr th {\n",
              "        vertical-align: top;\n",
              "    }\n",
              "\n",
              "    .dataframe thead th {\n",
              "        text-align: right;\n",
              "    }\n",
              "</style>\n",
              "<table border=\"1\" class=\"dataframe\">\n",
              "  <thead>\n",
              "    <tr style=\"text-align: right;\">\n",
              "      <th></th>\n",
              "      <th>Total_booking</th>\n",
              "    </tr>\n",
              "  </thead>\n",
              "  <tbody>\n",
              "    <tr>\n",
              "      <th>0</th>\n",
              "      <td>256</td>\n",
              "    </tr>\n",
              "    <tr>\n",
              "      <th>1</th>\n",
              "      <td>87</td>\n",
              "    </tr>\n",
              "    <tr>\n",
              "      <th>2</th>\n",
              "      <td>11</td>\n",
              "    </tr>\n",
              "    <tr>\n",
              "      <th>3</th>\n",
              "      <td>84</td>\n",
              "    </tr>\n",
              "    <tr>\n",
              "      <th>4</th>\n",
              "      <td>668</td>\n",
              "    </tr>\n",
              "    <tr>\n",
              "      <th>...</th>\n",
              "      <td>...</td>\n",
              "    </tr>\n",
              "    <tr>\n",
              "      <th>2173</th>\n",
              "      <td>3</td>\n",
              "    </tr>\n",
              "    <tr>\n",
              "      <th>2174</th>\n",
              "      <td>144</td>\n",
              "    </tr>\n",
              "    <tr>\n",
              "      <th>2175</th>\n",
              "      <td>159</td>\n",
              "    </tr>\n",
              "    <tr>\n",
              "      <th>2176</th>\n",
              "      <td>29</td>\n",
              "    </tr>\n",
              "    <tr>\n",
              "      <th>2177</th>\n",
              "      <td>224</td>\n",
              "    </tr>\n",
              "  </tbody>\n",
              "</table>\n",
              "<p>2178 rows × 1 columns</p>\n",
              "</div>"
            ],
            "text/plain": [
              "      Total_booking\n",
              "0               256\n",
              "1                87\n",
              "2                11\n",
              "3                84\n",
              "4               668\n",
              "...             ...\n",
              "2173              3\n",
              "2174            144\n",
              "2175            159\n",
              "2176             29\n",
              "2177            224\n",
              "\n",
              "[2178 rows x 1 columns]"
            ]
          },
          "metadata": {},
          "execution_count": 135
        }
      ]
    },
    {
      "cell_type": "markdown",
      "metadata": {
        "id": "0FL8MmkouQF9"
      },
      "source": [
        "##### For developing the model need to combine IDV & DV of training and testing data.\n",
        "##### Using pandas concat function combining the IDV & DV."
      ]
    },
    {
      "cell_type": "code",
      "metadata": {
        "colab": {
          "base_uri": "https://localhost:8080/",
          "height": 830
        },
        "id": "9_W7-kwBidSR",
        "outputId": "884e0d72-7356-4081-e03e-5e2b545ce20f"
      },
      "source": [
        "training_data = pd.concat([training_idv,training_dv],axis=1)\n",
        "training_data\n",
        "testing_data = pd.concat([testing_idv,testing_dv],axis=1)\n",
        "testing_data"
      ],
      "execution_count": null,
      "outputs": [
        {
          "output_type": "execute_result",
          "data": {
            "text/html": [
              "<div>\n",
              "<style scoped>\n",
              "    .dataframe tbody tr th:only-of-type {\n",
              "        vertical-align: middle;\n",
              "    }\n",
              "\n",
              "    .dataframe tbody tr th {\n",
              "        vertical-align: top;\n",
              "    }\n",
              "\n",
              "    .dataframe thead th {\n",
              "        text-align: right;\n",
              "    }\n",
              "</style>\n",
              "<table border=\"1\" class=\"dataframe\">\n",
              "  <thead>\n",
              "    <tr style=\"text-align: right;\">\n",
              "      <th></th>\n",
              "      <th>datetime</th>\n",
              "      <th>season</th>\n",
              "      <th>holiday</th>\n",
              "      <th>workingday</th>\n",
              "      <th>weather</th>\n",
              "      <th>temp</th>\n",
              "      <th>atemp</th>\n",
              "      <th>humidity</th>\n",
              "      <th>windspeed</th>\n",
              "      <th>Total_booking</th>\n",
              "    </tr>\n",
              "  </thead>\n",
              "  <tbody>\n",
              "    <tr>\n",
              "      <th>0</th>\n",
              "      <td>5/2/2012 19:00</td>\n",
              "      <td>Summer</td>\n",
              "      <td>0</td>\n",
              "      <td>1</td>\n",
              "      <td>Clear + Few clouds</td>\n",
              "      <td>22.14</td>\n",
              "      <td>25.760</td>\n",
              "      <td>77</td>\n",
              "      <td>16.9979</td>\n",
              "      <td>504</td>\n",
              "    </tr>\n",
              "    <tr>\n",
              "      <th>1</th>\n",
              "      <td>9/5/2012 4:00</td>\n",
              "      <td>Fall</td>\n",
              "      <td>0</td>\n",
              "      <td>1</td>\n",
              "      <td>Clear + Few clouds</td>\n",
              "      <td>28.70</td>\n",
              "      <td>33.335</td>\n",
              "      <td>79</td>\n",
              "      <td>19.0012</td>\n",
              "      <td>5</td>\n",
              "    </tr>\n",
              "    <tr>\n",
              "      <th>2</th>\n",
              "      <td>1/13/2011 9:00</td>\n",
              "      <td>Spring</td>\n",
              "      <td>0</td>\n",
              "      <td>1</td>\n",
              "      <td>Clear + Few clouds</td>\n",
              "      <td>5.74</td>\n",
              "      <td>6.060</td>\n",
              "      <td>50</td>\n",
              "      <td>22.0028</td>\n",
              "      <td>139</td>\n",
              "    </tr>\n",
              "    <tr>\n",
              "      <th>3</th>\n",
              "      <td>11/18/2011 16:00</td>\n",
              "      <td>Winter</td>\n",
              "      <td>0</td>\n",
              "      <td>1</td>\n",
              "      <td>Clear + Few clouds</td>\n",
              "      <td>13.94</td>\n",
              "      <td>16.665</td>\n",
              "      <td>29</td>\n",
              "      <td>8.9981</td>\n",
              "      <td>209</td>\n",
              "    </tr>\n",
              "    <tr>\n",
              "      <th>4</th>\n",
              "      <td>9/13/2011 13:00</td>\n",
              "      <td>Fall</td>\n",
              "      <td>0</td>\n",
              "      <td>1</td>\n",
              "      <td>Clear + Few clouds</td>\n",
              "      <td>30.34</td>\n",
              "      <td>33.335</td>\n",
              "      <td>51</td>\n",
              "      <td>19.0012</td>\n",
              "      <td>184</td>\n",
              "    </tr>\n",
              "    <tr>\n",
              "      <th>...</th>\n",
              "      <td>...</td>\n",
              "      <td>...</td>\n",
              "      <td>...</td>\n",
              "      <td>...</td>\n",
              "      <td>...</td>\n",
              "      <td>...</td>\n",
              "      <td>...</td>\n",
              "      <td>...</td>\n",
              "      <td>...</td>\n",
              "      <td>...</td>\n",
              "    </tr>\n",
              "    <tr>\n",
              "      <th>8703</th>\n",
              "      <td>1/16/2012 6:00</td>\n",
              "      <td>Spring</td>\n",
              "      <td>1</td>\n",
              "      <td>0</td>\n",
              "      <td>Clear + Few clouds</td>\n",
              "      <td>4.10</td>\n",
              "      <td>6.820</td>\n",
              "      <td>54</td>\n",
              "      <td>6.0032</td>\n",
              "      <td>13</td>\n",
              "    </tr>\n",
              "    <tr>\n",
              "      <th>8704</th>\n",
              "      <td>11/10/2011 1:00</td>\n",
              "      <td>Winter</td>\n",
              "      <td>0</td>\n",
              "      <td>1</td>\n",
              "      <td>Mist + Cloudy</td>\n",
              "      <td>16.40</td>\n",
              "      <td>20.455</td>\n",
              "      <td>87</td>\n",
              "      <td>0.0000</td>\n",
              "      <td>11</td>\n",
              "    </tr>\n",
              "    <tr>\n",
              "      <th>8705</th>\n",
              "      <td>4/12/2011 3:00</td>\n",
              "      <td>Summer</td>\n",
              "      <td>0</td>\n",
              "      <td>1</td>\n",
              "      <td>Mist + Cloudy</td>\n",
              "      <td>23.78</td>\n",
              "      <td>27.275</td>\n",
              "      <td>56</td>\n",
              "      <td>8.9981</td>\n",
              "      <td>1</td>\n",
              "    </tr>\n",
              "    <tr>\n",
              "      <th>8706</th>\n",
              "      <td>11/7/2012 1:00</td>\n",
              "      <td>Winter</td>\n",
              "      <td>0</td>\n",
              "      <td>1</td>\n",
              "      <td>Mist + Cloudy</td>\n",
              "      <td>11.48</td>\n",
              "      <td>13.635</td>\n",
              "      <td>61</td>\n",
              "      <td>16.9979</td>\n",
              "      <td>92</td>\n",
              "    </tr>\n",
              "    <tr>\n",
              "      <th>8707</th>\n",
              "      <td>1/10/2011 10:00</td>\n",
              "      <td>Spring</td>\n",
              "      <td>0</td>\n",
              "      <td>1</td>\n",
              "      <td>Mist + Cloudy</td>\n",
              "      <td>5.74</td>\n",
              "      <td>6.060</td>\n",
              "      <td>50</td>\n",
              "      <td>19.9995</td>\n",
              "      <td>31</td>\n",
              "    </tr>\n",
              "  </tbody>\n",
              "</table>\n",
              "<p>8708 rows × 10 columns</p>\n",
              "</div>"
            ],
            "text/plain": [
              "              datetime  season  holiday  ...  humidity windspeed  Total_booking\n",
              "0       5/2/2012 19:00  Summer        0  ...        77   16.9979            504\n",
              "1        9/5/2012 4:00    Fall        0  ...        79   19.0012              5\n",
              "2       1/13/2011 9:00  Spring        0  ...        50   22.0028            139\n",
              "3     11/18/2011 16:00  Winter        0  ...        29    8.9981            209\n",
              "4      9/13/2011 13:00    Fall        0  ...        51   19.0012            184\n",
              "...                ...     ...      ...  ...       ...       ...            ...\n",
              "8703    1/16/2012 6:00  Spring        1  ...        54    6.0032             13\n",
              "8704   11/10/2011 1:00  Winter        0  ...        87    0.0000             11\n",
              "8705    4/12/2011 3:00  Summer        0  ...        56    8.9981              1\n",
              "8706    11/7/2012 1:00  Winter        0  ...        61   16.9979             92\n",
              "8707   1/10/2011 10:00  Spring        0  ...        50   19.9995             31\n",
              "\n",
              "[8708 rows x 10 columns]"
            ]
          },
          "metadata": {},
          "execution_count": 136
        },
        {
          "output_type": "execute_result",
          "data": {
            "text/html": [
              "<div>\n",
              "<style scoped>\n",
              "    .dataframe tbody tr th:only-of-type {\n",
              "        vertical-align: middle;\n",
              "    }\n",
              "\n",
              "    .dataframe tbody tr th {\n",
              "        vertical-align: top;\n",
              "    }\n",
              "\n",
              "    .dataframe thead th {\n",
              "        text-align: right;\n",
              "    }\n",
              "</style>\n",
              "<table border=\"1\" class=\"dataframe\">\n",
              "  <thead>\n",
              "    <tr style=\"text-align: right;\">\n",
              "      <th></th>\n",
              "      <th>datetime</th>\n",
              "      <th>season</th>\n",
              "      <th>holiday</th>\n",
              "      <th>workingday</th>\n",
              "      <th>weather</th>\n",
              "      <th>temp</th>\n",
              "      <th>atemp</th>\n",
              "      <th>humidity</th>\n",
              "      <th>windspeed</th>\n",
              "      <th>Total_booking</th>\n",
              "    </tr>\n",
              "  </thead>\n",
              "  <tbody>\n",
              "    <tr>\n",
              "      <th>0</th>\n",
              "      <td>5/10/2012 11:00</td>\n",
              "      <td>Summer</td>\n",
              "      <td>0</td>\n",
              "      <td>1</td>\n",
              "      <td>Clear + Few clouds</td>\n",
              "      <td>21.32</td>\n",
              "      <td>25.000</td>\n",
              "      <td>48</td>\n",
              "      <td>35.0008</td>\n",
              "      <td>256</td>\n",
              "    </tr>\n",
              "    <tr>\n",
              "      <th>1</th>\n",
              "      <td>6/9/2012 7:00</td>\n",
              "      <td>Summer</td>\n",
              "      <td>0</td>\n",
              "      <td>0</td>\n",
              "      <td>Clear + Few clouds</td>\n",
              "      <td>23.78</td>\n",
              "      <td>27.275</td>\n",
              "      <td>64</td>\n",
              "      <td>7.0015</td>\n",
              "      <td>87</td>\n",
              "    </tr>\n",
              "    <tr>\n",
              "      <th>2</th>\n",
              "      <td>3/6/2011 20:00</td>\n",
              "      <td>Spring</td>\n",
              "      <td>0</td>\n",
              "      <td>0</td>\n",
              "      <td>Light Snow, Light Rain</td>\n",
              "      <td>11.48</td>\n",
              "      <td>12.120</td>\n",
              "      <td>100</td>\n",
              "      <td>27.9993</td>\n",
              "      <td>11</td>\n",
              "    </tr>\n",
              "    <tr>\n",
              "      <th>3</th>\n",
              "      <td>10/13/2011 11:00</td>\n",
              "      <td>Winter</td>\n",
              "      <td>0</td>\n",
              "      <td>1</td>\n",
              "      <td>Mist + Cloudy</td>\n",
              "      <td>25.42</td>\n",
              "      <td>28.790</td>\n",
              "      <td>83</td>\n",
              "      <td>0.0000</td>\n",
              "      <td>84</td>\n",
              "    </tr>\n",
              "    <tr>\n",
              "      <th>4</th>\n",
              "      <td>6/2/2012 12:00</td>\n",
              "      <td>Summer</td>\n",
              "      <td>0</td>\n",
              "      <td>0</td>\n",
              "      <td>Clear + Few clouds</td>\n",
              "      <td>25.42</td>\n",
              "      <td>31.060</td>\n",
              "      <td>43</td>\n",
              "      <td>23.9994</td>\n",
              "      <td>668</td>\n",
              "    </tr>\n",
              "    <tr>\n",
              "      <th>...</th>\n",
              "      <td>...</td>\n",
              "      <td>...</td>\n",
              "      <td>...</td>\n",
              "      <td>...</td>\n",
              "      <td>...</td>\n",
              "      <td>...</td>\n",
              "      <td>...</td>\n",
              "      <td>...</td>\n",
              "      <td>...</td>\n",
              "      <td>...</td>\n",
              "    </tr>\n",
              "    <tr>\n",
              "      <th>2173</th>\n",
              "      <td>3/8/2012 3:00</td>\n",
              "      <td>Spring</td>\n",
              "      <td>0</td>\n",
              "      <td>1</td>\n",
              "      <td>Clear + Few clouds</td>\n",
              "      <td>18.86</td>\n",
              "      <td>22.725</td>\n",
              "      <td>63</td>\n",
              "      <td>26.0027</td>\n",
              "      <td>3</td>\n",
              "    </tr>\n",
              "    <tr>\n",
              "      <th>2174</th>\n",
              "      <td>1/12/2012 12:00</td>\n",
              "      <td>Spring</td>\n",
              "      <td>0</td>\n",
              "      <td>1</td>\n",
              "      <td>Mist + Cloudy</td>\n",
              "      <td>13.94</td>\n",
              "      <td>17.425</td>\n",
              "      <td>81</td>\n",
              "      <td>7.0015</td>\n",
              "      <td>144</td>\n",
              "    </tr>\n",
              "    <tr>\n",
              "      <th>2175</th>\n",
              "      <td>3/7/2012 22:00</td>\n",
              "      <td>Spring</td>\n",
              "      <td>0</td>\n",
              "      <td>1</td>\n",
              "      <td>Clear + Few clouds</td>\n",
              "      <td>18.86</td>\n",
              "      <td>22.725</td>\n",
              "      <td>59</td>\n",
              "      <td>19.9995</td>\n",
              "      <td>159</td>\n",
              "    </tr>\n",
              "    <tr>\n",
              "      <th>2176</th>\n",
              "      <td>5/12/2011 5:00</td>\n",
              "      <td>Summer</td>\n",
              "      <td>0</td>\n",
              "      <td>1</td>\n",
              "      <td>Clear + Few clouds</td>\n",
              "      <td>17.22</td>\n",
              "      <td>21.210</td>\n",
              "      <td>94</td>\n",
              "      <td>8.9981</td>\n",
              "      <td>29</td>\n",
              "    </tr>\n",
              "    <tr>\n",
              "      <th>2177</th>\n",
              "      <td>7/18/2012 16:00</td>\n",
              "      <td>Fall</td>\n",
              "      <td>0</td>\n",
              "      <td>1</td>\n",
              "      <td>Clear + Few clouds</td>\n",
              "      <td>30.34</td>\n",
              "      <td>34.850</td>\n",
              "      <td>66</td>\n",
              "      <td>16.9979</td>\n",
              "      <td>224</td>\n",
              "    </tr>\n",
              "  </tbody>\n",
              "</table>\n",
              "<p>2178 rows × 10 columns</p>\n",
              "</div>"
            ],
            "text/plain": [
              "              datetime  season  holiday  ...  humidity windspeed  Total_booking\n",
              "0      5/10/2012 11:00  Summer        0  ...        48   35.0008            256\n",
              "1        6/9/2012 7:00  Summer        0  ...        64    7.0015             87\n",
              "2       3/6/2011 20:00  Spring        0  ...       100   27.9993             11\n",
              "3     10/13/2011 11:00  Winter        0  ...        83    0.0000             84\n",
              "4       6/2/2012 12:00  Summer        0  ...        43   23.9994            668\n",
              "...                ...     ...      ...  ...       ...       ...            ...\n",
              "2173     3/8/2012 3:00  Spring        0  ...        63   26.0027              3\n",
              "2174   1/12/2012 12:00  Spring        0  ...        81    7.0015            144\n",
              "2175    3/7/2012 22:00  Spring        0  ...        59   19.9995            159\n",
              "2176    5/12/2011 5:00  Summer        0  ...        94    8.9981             29\n",
              "2177   7/18/2012 16:00    Fall        0  ...        66   16.9979            224\n",
              "\n",
              "[2178 rows x 10 columns]"
            ]
          },
          "metadata": {},
          "execution_count": 136
        }
      ]
    },
    {
      "cell_type": "markdown",
      "metadata": {
        "id": "3EHAyZo6lTiK"
      },
      "source": [
        "## 2. Analyze the dataset and write your observations \n",
        "### a. Check the shape of the training and testing set\n",
        "### b. Print the data types of each column\n",
        "### c. Check the missing values present in the dataset"
      ]
    },
    {
      "cell_type": "markdown",
      "metadata": {
        "id": "95gL1P5su3AO"
      },
      "source": [
        "##### Shape of the training and testing set"
      ]
    },
    {
      "cell_type": "code",
      "metadata": {
        "colab": {
          "base_uri": "https://localhost:8080/"
        },
        "id": "qwJEYugvWjj2",
        "outputId": "5821955c-1614-4abb-e6fa-579790707cbd"
      },
      "source": [
        "print(\"Shape of training set is:\",training_data.shape)\n",
        "print(\"No of obeservations: {}\".format(training_data.shape[0]))\n",
        "print(\"No of Features: {}\".format(training_data.shape[1]))\n",
        "print(\"-----------------------------------\")\n",
        "print(\"Shape of testing set:\",testing_data.shape)\n",
        "print(\"No of obeservations: {}\".format(testing_data.shape[0]))\n",
        "print(\"No of Features: {}\".format(testing_data.shape[1]))"
      ],
      "execution_count": null,
      "outputs": [
        {
          "output_type": "stream",
          "name": "stdout",
          "text": [
            "Shape of training set is: (8708, 10)\n",
            "No of obeservations: 8708\n",
            "No of Features: 10\n",
            "-----------------------------------\n",
            "Shape of testing set: (2178, 10)\n",
            "No of obeservations: 2178\n",
            "No of Features: 10\n"
          ]
        }
      ]
    },
    {
      "cell_type": "markdown",
      "metadata": {
        "id": "nKYUBoSRvCTN"
      },
      "source": [
        "##### Data types of each column using for loop.\n",
        "##### OR \n",
        "##### Data types of each column using dataframe.info() function."
      ]
    },
    {
      "cell_type": "code",
      "metadata": {
        "colab": {
          "base_uri": "https://localhost:8080/"
        },
        "id": "6e562QuHb14Y",
        "outputId": "32981155-98e2-4ed1-d2e3-de25e0eaad47"
      },
      "source": [
        "cols = training_data.columns\n",
        "for col in cols:\n",
        "  print(str(col) + \"  ---->    \" + str(training_data[col].dtype))\n",
        "training_data.info()\n",
        "\n",
        "print('\\n--------------------------------------------------\\n')\n",
        "\n",
        "cols = testing_data.columns\n",
        "for col in cols:\n",
        "  print(str(col) + \"  ---->    \" + str(testing_data[col].dtype))\n",
        "testing_data.info()\n"
      ],
      "execution_count": null,
      "outputs": [
        {
          "output_type": "stream",
          "name": "stdout",
          "text": [
            "datetime  ---->    object\n",
            "season  ---->    object\n",
            "holiday  ---->    int64\n",
            "workingday  ---->    int64\n",
            "weather  ---->    object\n",
            "temp  ---->    float64\n",
            "atemp  ---->    float64\n",
            "humidity  ---->    int64\n",
            "windspeed  ---->    float64\n",
            "Total_booking  ---->    int64\n",
            "<class 'pandas.core.frame.DataFrame'>\n",
            "RangeIndex: 8708 entries, 0 to 8707\n",
            "Data columns (total 10 columns):\n",
            " #   Column         Non-Null Count  Dtype  \n",
            "---  ------         --------------  -----  \n",
            " 0   datetime       8708 non-null   object \n",
            " 1   season         8708 non-null   object \n",
            " 2   holiday        8708 non-null   int64  \n",
            " 3   workingday     8708 non-null   int64  \n",
            " 4   weather        8708 non-null   object \n",
            " 5   temp           8708 non-null   float64\n",
            " 6   atemp          8708 non-null   float64\n",
            " 7   humidity       8708 non-null   int64  \n",
            " 8   windspeed      8708 non-null   float64\n",
            " 9   Total_booking  8708 non-null   int64  \n",
            "dtypes: float64(3), int64(4), object(3)\n",
            "memory usage: 680.4+ KB\n",
            "\n",
            "--------------------------------------------------\n",
            "\n",
            "datetime  ---->    object\n",
            "season  ---->    object\n",
            "holiday  ---->    int64\n",
            "workingday  ---->    int64\n",
            "weather  ---->    object\n",
            "temp  ---->    float64\n",
            "atemp  ---->    float64\n",
            "humidity  ---->    int64\n",
            "windspeed  ---->    float64\n",
            "Total_booking  ---->    int64\n",
            "<class 'pandas.core.frame.DataFrame'>\n",
            "RangeIndex: 2178 entries, 0 to 2177\n",
            "Data columns (total 10 columns):\n",
            " #   Column         Non-Null Count  Dtype  \n",
            "---  ------         --------------  -----  \n",
            " 0   datetime       2178 non-null   object \n",
            " 1   season         2178 non-null   object \n",
            " 2   holiday        2178 non-null   int64  \n",
            " 3   workingday     2178 non-null   int64  \n",
            " 4   weather        2178 non-null   object \n",
            " 5   temp           2178 non-null   float64\n",
            " 6   atemp          2178 non-null   float64\n",
            " 7   humidity       2178 non-null   int64  \n",
            " 8   windspeed      2178 non-null   float64\n",
            " 9   Total_booking  2178 non-null   int64  \n",
            "dtypes: float64(3), int64(4), object(3)\n",
            "memory usage: 170.3+ KB\n"
          ]
        }
      ]
    },
    {
      "cell_type": "markdown",
      "metadata": {
        "id": "fZVhwXtSpWYv"
      },
      "source": [
        "#### Observation - \n",
        "##### 1. datetime column in string/object data type needs to convert it to datetime dtype.\n",
        "##### 2. season, holiday, workingday and weather in string/object data type needs to convert it to category."
      ]
    },
    {
      "cell_type": "markdown",
      "metadata": {
        "id": "buvQn_nGwLrg"
      },
      "source": [
        "##### Checking null values in each column of training and testing data."
      ]
    },
    {
      "cell_type": "code",
      "metadata": {
        "colab": {
          "base_uri": "https://localhost:8080/"
        },
        "id": "jqtpO2HSe5SN",
        "outputId": "0de77fc8-48a0-4ab4-c18e-b7df557514b0"
      },
      "source": [
        "print(\"Count of Null values in each column of Training data\")\n",
        "print(training_data.isna().sum())\n",
        "print(\"\\n-----------------------------------------\\n\")\n",
        "print(\"Count of Null values in each column of Testing data\")\n",
        "print(testing_data.isna().sum())\n"
      ],
      "execution_count": null,
      "outputs": [
        {
          "output_type": "stream",
          "name": "stdout",
          "text": [
            "Count of Null values in each column of Training data\n",
            "datetime         0\n",
            "season           0\n",
            "holiday          0\n",
            "workingday       0\n",
            "weather          0\n",
            "temp             0\n",
            "atemp            0\n",
            "humidity         0\n",
            "windspeed        0\n",
            "Total_booking    0\n",
            "dtype: int64\n",
            "\n",
            "-----------------------------------------\n",
            "\n",
            "Count of Null values in each column of Testing data\n",
            "datetime         0\n",
            "season           0\n",
            "holiday          0\n",
            "workingday       0\n",
            "weather          0\n",
            "temp             0\n",
            "atemp            0\n",
            "humidity         0\n",
            "windspeed        0\n",
            "Total_booking    0\n",
            "dtype: int64\n"
          ]
        }
      ]
    },
    {
      "cell_type": "markdown",
      "metadata": {
        "id": "S5stibGnoruT"
      },
      "source": [
        "#### Observation - \n",
        "##### No null values in Training & Testing dataset."
      ]
    },
    {
      "cell_type": "markdown",
      "metadata": {
        "id": "7Ixrn3lWstaK"
      },
      "source": [
        "## 3. Perform Feature Engineering: \n",
        "### a. Create new columns date, hour, weekDay, month from datetime column.\n",
        "### b. Coerce the datatype of season, holiday, workingday, and weather to category.\n",
        "### c. Drop the datetime column as we have already extracted useful features from it."
      ]
    },
    {
      "cell_type": "markdown",
      "metadata": {
        "id": "omNrE8O61nlb"
      },
      "source": [
        "#### Converting datetime column datatype from string/ object to datetime datatype using pandas to_datetime() function.\n",
        "#### Printing datatypes of each column of training & testing dataset after conversion.\n",
        "#### Displaying first few rows of training & testing dataset.\n",
        "\n"
      ]
    },
    {
      "cell_type": "code",
      "metadata": {
        "colab": {
          "base_uri": "https://localhost:8080/",
          "height": 1000
        },
        "id": "0HkU5W2Topl2",
        "outputId": "3dbf4a50-ce82-4ab5-e829-16f4b9af7587"
      },
      "source": [
        "training_data['datetime'] = pd.to_datetime(training_data['datetime'],format='%m/%d/%Y %H:%M')\n",
        "training_data.info()\n",
        "training_data.head()\n",
        "print('\\n-------------------------------\\n')\n",
        "testing_data['datetime'] = pd.to_datetime(testing_data['datetime'],format='%m/%d/%Y %H:%M')\n",
        "testing_data.info()\n",
        "testing_data.head()"
      ],
      "execution_count": null,
      "outputs": [
        {
          "output_type": "stream",
          "name": "stdout",
          "text": [
            "<class 'pandas.core.frame.DataFrame'>\n",
            "RangeIndex: 8708 entries, 0 to 8707\n",
            "Data columns (total 10 columns):\n",
            " #   Column         Non-Null Count  Dtype         \n",
            "---  ------         --------------  -----         \n",
            " 0   datetime       8708 non-null   datetime64[ns]\n",
            " 1   season         8708 non-null   object        \n",
            " 2   holiday        8708 non-null   int64         \n",
            " 3   workingday     8708 non-null   int64         \n",
            " 4   weather        8708 non-null   object        \n",
            " 5   temp           8708 non-null   float64       \n",
            " 6   atemp          8708 non-null   float64       \n",
            " 7   humidity       8708 non-null   int64         \n",
            " 8   windspeed      8708 non-null   float64       \n",
            " 9   Total_booking  8708 non-null   int64         \n",
            "dtypes: datetime64[ns](1), float64(3), int64(4), object(2)\n",
            "memory usage: 680.4+ KB\n"
          ]
        },
        {
          "output_type": "execute_result",
          "data": {
            "text/html": [
              "<div>\n",
              "<style scoped>\n",
              "    .dataframe tbody tr th:only-of-type {\n",
              "        vertical-align: middle;\n",
              "    }\n",
              "\n",
              "    .dataframe tbody tr th {\n",
              "        vertical-align: top;\n",
              "    }\n",
              "\n",
              "    .dataframe thead th {\n",
              "        text-align: right;\n",
              "    }\n",
              "</style>\n",
              "<table border=\"1\" class=\"dataframe\">\n",
              "  <thead>\n",
              "    <tr style=\"text-align: right;\">\n",
              "      <th></th>\n",
              "      <th>datetime</th>\n",
              "      <th>season</th>\n",
              "      <th>holiday</th>\n",
              "      <th>workingday</th>\n",
              "      <th>weather</th>\n",
              "      <th>temp</th>\n",
              "      <th>atemp</th>\n",
              "      <th>humidity</th>\n",
              "      <th>windspeed</th>\n",
              "      <th>Total_booking</th>\n",
              "    </tr>\n",
              "  </thead>\n",
              "  <tbody>\n",
              "    <tr>\n",
              "      <th>0</th>\n",
              "      <td>2012-05-02 19:00:00</td>\n",
              "      <td>Summer</td>\n",
              "      <td>0</td>\n",
              "      <td>1</td>\n",
              "      <td>Clear + Few clouds</td>\n",
              "      <td>22.14</td>\n",
              "      <td>25.760</td>\n",
              "      <td>77</td>\n",
              "      <td>16.9979</td>\n",
              "      <td>504</td>\n",
              "    </tr>\n",
              "    <tr>\n",
              "      <th>1</th>\n",
              "      <td>2012-09-05 04:00:00</td>\n",
              "      <td>Fall</td>\n",
              "      <td>0</td>\n",
              "      <td>1</td>\n",
              "      <td>Clear + Few clouds</td>\n",
              "      <td>28.70</td>\n",
              "      <td>33.335</td>\n",
              "      <td>79</td>\n",
              "      <td>19.0012</td>\n",
              "      <td>5</td>\n",
              "    </tr>\n",
              "    <tr>\n",
              "      <th>2</th>\n",
              "      <td>2011-01-13 09:00:00</td>\n",
              "      <td>Spring</td>\n",
              "      <td>0</td>\n",
              "      <td>1</td>\n",
              "      <td>Clear + Few clouds</td>\n",
              "      <td>5.74</td>\n",
              "      <td>6.060</td>\n",
              "      <td>50</td>\n",
              "      <td>22.0028</td>\n",
              "      <td>139</td>\n",
              "    </tr>\n",
              "    <tr>\n",
              "      <th>3</th>\n",
              "      <td>2011-11-18 16:00:00</td>\n",
              "      <td>Winter</td>\n",
              "      <td>0</td>\n",
              "      <td>1</td>\n",
              "      <td>Clear + Few clouds</td>\n",
              "      <td>13.94</td>\n",
              "      <td>16.665</td>\n",
              "      <td>29</td>\n",
              "      <td>8.9981</td>\n",
              "      <td>209</td>\n",
              "    </tr>\n",
              "    <tr>\n",
              "      <th>4</th>\n",
              "      <td>2011-09-13 13:00:00</td>\n",
              "      <td>Fall</td>\n",
              "      <td>0</td>\n",
              "      <td>1</td>\n",
              "      <td>Clear + Few clouds</td>\n",
              "      <td>30.34</td>\n",
              "      <td>33.335</td>\n",
              "      <td>51</td>\n",
              "      <td>19.0012</td>\n",
              "      <td>184</td>\n",
              "    </tr>\n",
              "  </tbody>\n",
              "</table>\n",
              "</div>"
            ],
            "text/plain": [
              "             datetime  season  holiday  ...  humidity windspeed  Total_booking\n",
              "0 2012-05-02 19:00:00  Summer        0  ...        77   16.9979            504\n",
              "1 2012-09-05 04:00:00    Fall        0  ...        79   19.0012              5\n",
              "2 2011-01-13 09:00:00  Spring        0  ...        50   22.0028            139\n",
              "3 2011-11-18 16:00:00  Winter        0  ...        29    8.9981            209\n",
              "4 2011-09-13 13:00:00    Fall        0  ...        51   19.0012            184\n",
              "\n",
              "[5 rows x 10 columns]"
            ]
          },
          "metadata": {},
          "execution_count": 140
        },
        {
          "output_type": "stream",
          "name": "stdout",
          "text": [
            "\n",
            "-------------------------------\n",
            "\n",
            "<class 'pandas.core.frame.DataFrame'>\n",
            "RangeIndex: 2178 entries, 0 to 2177\n",
            "Data columns (total 10 columns):\n",
            " #   Column         Non-Null Count  Dtype         \n",
            "---  ------         --------------  -----         \n",
            " 0   datetime       2178 non-null   datetime64[ns]\n",
            " 1   season         2178 non-null   object        \n",
            " 2   holiday        2178 non-null   int64         \n",
            " 3   workingday     2178 non-null   int64         \n",
            " 4   weather        2178 non-null   object        \n",
            " 5   temp           2178 non-null   float64       \n",
            " 6   atemp          2178 non-null   float64       \n",
            " 7   humidity       2178 non-null   int64         \n",
            " 8   windspeed      2178 non-null   float64       \n",
            " 9   Total_booking  2178 non-null   int64         \n",
            "dtypes: datetime64[ns](1), float64(3), int64(4), object(2)\n",
            "memory usage: 170.3+ KB\n"
          ]
        },
        {
          "output_type": "execute_result",
          "data": {
            "text/html": [
              "<div>\n",
              "<style scoped>\n",
              "    .dataframe tbody tr th:only-of-type {\n",
              "        vertical-align: middle;\n",
              "    }\n",
              "\n",
              "    .dataframe tbody tr th {\n",
              "        vertical-align: top;\n",
              "    }\n",
              "\n",
              "    .dataframe thead th {\n",
              "        text-align: right;\n",
              "    }\n",
              "</style>\n",
              "<table border=\"1\" class=\"dataframe\">\n",
              "  <thead>\n",
              "    <tr style=\"text-align: right;\">\n",
              "      <th></th>\n",
              "      <th>datetime</th>\n",
              "      <th>season</th>\n",
              "      <th>holiday</th>\n",
              "      <th>workingday</th>\n",
              "      <th>weather</th>\n",
              "      <th>temp</th>\n",
              "      <th>atemp</th>\n",
              "      <th>humidity</th>\n",
              "      <th>windspeed</th>\n",
              "      <th>Total_booking</th>\n",
              "    </tr>\n",
              "  </thead>\n",
              "  <tbody>\n",
              "    <tr>\n",
              "      <th>0</th>\n",
              "      <td>2012-05-10 11:00:00</td>\n",
              "      <td>Summer</td>\n",
              "      <td>0</td>\n",
              "      <td>1</td>\n",
              "      <td>Clear + Few clouds</td>\n",
              "      <td>21.32</td>\n",
              "      <td>25.000</td>\n",
              "      <td>48</td>\n",
              "      <td>35.0008</td>\n",
              "      <td>256</td>\n",
              "    </tr>\n",
              "    <tr>\n",
              "      <th>1</th>\n",
              "      <td>2012-06-09 07:00:00</td>\n",
              "      <td>Summer</td>\n",
              "      <td>0</td>\n",
              "      <td>0</td>\n",
              "      <td>Clear + Few clouds</td>\n",
              "      <td>23.78</td>\n",
              "      <td>27.275</td>\n",
              "      <td>64</td>\n",
              "      <td>7.0015</td>\n",
              "      <td>87</td>\n",
              "    </tr>\n",
              "    <tr>\n",
              "      <th>2</th>\n",
              "      <td>2011-03-06 20:00:00</td>\n",
              "      <td>Spring</td>\n",
              "      <td>0</td>\n",
              "      <td>0</td>\n",
              "      <td>Light Snow, Light Rain</td>\n",
              "      <td>11.48</td>\n",
              "      <td>12.120</td>\n",
              "      <td>100</td>\n",
              "      <td>27.9993</td>\n",
              "      <td>11</td>\n",
              "    </tr>\n",
              "    <tr>\n",
              "      <th>3</th>\n",
              "      <td>2011-10-13 11:00:00</td>\n",
              "      <td>Winter</td>\n",
              "      <td>0</td>\n",
              "      <td>1</td>\n",
              "      <td>Mist + Cloudy</td>\n",
              "      <td>25.42</td>\n",
              "      <td>28.790</td>\n",
              "      <td>83</td>\n",
              "      <td>0.0000</td>\n",
              "      <td>84</td>\n",
              "    </tr>\n",
              "    <tr>\n",
              "      <th>4</th>\n",
              "      <td>2012-06-02 12:00:00</td>\n",
              "      <td>Summer</td>\n",
              "      <td>0</td>\n",
              "      <td>0</td>\n",
              "      <td>Clear + Few clouds</td>\n",
              "      <td>25.42</td>\n",
              "      <td>31.060</td>\n",
              "      <td>43</td>\n",
              "      <td>23.9994</td>\n",
              "      <td>668</td>\n",
              "    </tr>\n",
              "  </tbody>\n",
              "</table>\n",
              "</div>"
            ],
            "text/plain": [
              "             datetime  season  holiday  ...  humidity windspeed  Total_booking\n",
              "0 2012-05-10 11:00:00  Summer        0  ...        48   35.0008            256\n",
              "1 2012-06-09 07:00:00  Summer        0  ...        64    7.0015             87\n",
              "2 2011-03-06 20:00:00  Spring        0  ...       100   27.9993             11\n",
              "3 2011-10-13 11:00:00  Winter        0  ...        83    0.0000             84\n",
              "4 2012-06-02 12:00:00  Summer        0  ...        43   23.9994            668\n",
              "\n",
              "[5 rows x 10 columns]"
            ]
          },
          "metadata": {},
          "execution_count": 140
        }
      ]
    },
    {
      "cell_type": "markdown",
      "metadata": {
        "id": "YxO5aiEo4KGr"
      },
      "source": [
        "#### Creating new columns date, hour, weekDay, month from datetime column of training and testing dataset.\n",
        "#### Appending newly created columns to training and testing dataset.\n",
        "#### Displaying first few rows after appending newly added columns to training and testing dataset."
      ]
    },
    {
      "cell_type": "code",
      "metadata": {
        "colab": {
          "base_uri": "https://localhost:8080/",
          "height": 447
        },
        "id": "ebi8YZ9EzURW",
        "outputId": "537ee397-b3f2-47e8-b7a0-2aae2829ce31"
      },
      "source": [
        "training_data['date'] = training_data['datetime'].dt.date\n",
        "training_data['hour'] = training_data['datetime'].dt.hour\n",
        "training_data['weekday'] = training_data['datetime'].dt.weekday\n",
        "training_data['month'] = training_data['datetime'].dt.month\n",
        "training_data.head()\n",
        "print('\\n---------------------------------------------\\n')\n",
        "testing_data['date'] = testing_data['datetime'].dt.date\n",
        "testing_data['hour'] = testing_data['datetime'].dt.hour\n",
        "testing_data['weekday'] = testing_data['datetime'].dt.weekday\n",
        "testing_data['month'] = testing_data['datetime'].dt.month\n",
        "testing_data.head()"
      ],
      "execution_count": null,
      "outputs": [
        {
          "output_type": "execute_result",
          "data": {
            "text/html": [
              "<div>\n",
              "<style scoped>\n",
              "    .dataframe tbody tr th:only-of-type {\n",
              "        vertical-align: middle;\n",
              "    }\n",
              "\n",
              "    .dataframe tbody tr th {\n",
              "        vertical-align: top;\n",
              "    }\n",
              "\n",
              "    .dataframe thead th {\n",
              "        text-align: right;\n",
              "    }\n",
              "</style>\n",
              "<table border=\"1\" class=\"dataframe\">\n",
              "  <thead>\n",
              "    <tr style=\"text-align: right;\">\n",
              "      <th></th>\n",
              "      <th>datetime</th>\n",
              "      <th>season</th>\n",
              "      <th>holiday</th>\n",
              "      <th>workingday</th>\n",
              "      <th>weather</th>\n",
              "      <th>temp</th>\n",
              "      <th>atemp</th>\n",
              "      <th>humidity</th>\n",
              "      <th>windspeed</th>\n",
              "      <th>Total_booking</th>\n",
              "      <th>date</th>\n",
              "      <th>hour</th>\n",
              "      <th>weekday</th>\n",
              "      <th>month</th>\n",
              "    </tr>\n",
              "  </thead>\n",
              "  <tbody>\n",
              "    <tr>\n",
              "      <th>0</th>\n",
              "      <td>2012-05-02 19:00:00</td>\n",
              "      <td>Summer</td>\n",
              "      <td>0</td>\n",
              "      <td>1</td>\n",
              "      <td>Clear + Few clouds</td>\n",
              "      <td>22.14</td>\n",
              "      <td>25.760</td>\n",
              "      <td>77</td>\n",
              "      <td>16.9979</td>\n",
              "      <td>504</td>\n",
              "      <td>2012-05-02</td>\n",
              "      <td>19</td>\n",
              "      <td>2</td>\n",
              "      <td>5</td>\n",
              "    </tr>\n",
              "    <tr>\n",
              "      <th>1</th>\n",
              "      <td>2012-09-05 04:00:00</td>\n",
              "      <td>Fall</td>\n",
              "      <td>0</td>\n",
              "      <td>1</td>\n",
              "      <td>Clear + Few clouds</td>\n",
              "      <td>28.70</td>\n",
              "      <td>33.335</td>\n",
              "      <td>79</td>\n",
              "      <td>19.0012</td>\n",
              "      <td>5</td>\n",
              "      <td>2012-09-05</td>\n",
              "      <td>4</td>\n",
              "      <td>2</td>\n",
              "      <td>9</td>\n",
              "    </tr>\n",
              "    <tr>\n",
              "      <th>2</th>\n",
              "      <td>2011-01-13 09:00:00</td>\n",
              "      <td>Spring</td>\n",
              "      <td>0</td>\n",
              "      <td>1</td>\n",
              "      <td>Clear + Few clouds</td>\n",
              "      <td>5.74</td>\n",
              "      <td>6.060</td>\n",
              "      <td>50</td>\n",
              "      <td>22.0028</td>\n",
              "      <td>139</td>\n",
              "      <td>2011-01-13</td>\n",
              "      <td>9</td>\n",
              "      <td>3</td>\n",
              "      <td>1</td>\n",
              "    </tr>\n",
              "    <tr>\n",
              "      <th>3</th>\n",
              "      <td>2011-11-18 16:00:00</td>\n",
              "      <td>Winter</td>\n",
              "      <td>0</td>\n",
              "      <td>1</td>\n",
              "      <td>Clear + Few clouds</td>\n",
              "      <td>13.94</td>\n",
              "      <td>16.665</td>\n",
              "      <td>29</td>\n",
              "      <td>8.9981</td>\n",
              "      <td>209</td>\n",
              "      <td>2011-11-18</td>\n",
              "      <td>16</td>\n",
              "      <td>4</td>\n",
              "      <td>11</td>\n",
              "    </tr>\n",
              "    <tr>\n",
              "      <th>4</th>\n",
              "      <td>2011-09-13 13:00:00</td>\n",
              "      <td>Fall</td>\n",
              "      <td>0</td>\n",
              "      <td>1</td>\n",
              "      <td>Clear + Few clouds</td>\n",
              "      <td>30.34</td>\n",
              "      <td>33.335</td>\n",
              "      <td>51</td>\n",
              "      <td>19.0012</td>\n",
              "      <td>184</td>\n",
              "      <td>2011-09-13</td>\n",
              "      <td>13</td>\n",
              "      <td>1</td>\n",
              "      <td>9</td>\n",
              "    </tr>\n",
              "  </tbody>\n",
              "</table>\n",
              "</div>"
            ],
            "text/plain": [
              "             datetime  season  holiday  ...  hour weekday  month\n",
              "0 2012-05-02 19:00:00  Summer        0  ...    19       2      5\n",
              "1 2012-09-05 04:00:00    Fall        0  ...     4       2      9\n",
              "2 2011-01-13 09:00:00  Spring        0  ...     9       3      1\n",
              "3 2011-11-18 16:00:00  Winter        0  ...    16       4     11\n",
              "4 2011-09-13 13:00:00    Fall        0  ...    13       1      9\n",
              "\n",
              "[5 rows x 14 columns]"
            ]
          },
          "metadata": {},
          "execution_count": 141
        },
        {
          "output_type": "stream",
          "name": "stdout",
          "text": [
            "\n",
            "---------------------------------------------\n",
            "\n"
          ]
        },
        {
          "output_type": "execute_result",
          "data": {
            "text/html": [
              "<div>\n",
              "<style scoped>\n",
              "    .dataframe tbody tr th:only-of-type {\n",
              "        vertical-align: middle;\n",
              "    }\n",
              "\n",
              "    .dataframe tbody tr th {\n",
              "        vertical-align: top;\n",
              "    }\n",
              "\n",
              "    .dataframe thead th {\n",
              "        text-align: right;\n",
              "    }\n",
              "</style>\n",
              "<table border=\"1\" class=\"dataframe\">\n",
              "  <thead>\n",
              "    <tr style=\"text-align: right;\">\n",
              "      <th></th>\n",
              "      <th>datetime</th>\n",
              "      <th>season</th>\n",
              "      <th>holiday</th>\n",
              "      <th>workingday</th>\n",
              "      <th>weather</th>\n",
              "      <th>temp</th>\n",
              "      <th>atemp</th>\n",
              "      <th>humidity</th>\n",
              "      <th>windspeed</th>\n",
              "      <th>Total_booking</th>\n",
              "      <th>date</th>\n",
              "      <th>hour</th>\n",
              "      <th>weekday</th>\n",
              "      <th>month</th>\n",
              "    </tr>\n",
              "  </thead>\n",
              "  <tbody>\n",
              "    <tr>\n",
              "      <th>0</th>\n",
              "      <td>2012-05-10 11:00:00</td>\n",
              "      <td>Summer</td>\n",
              "      <td>0</td>\n",
              "      <td>1</td>\n",
              "      <td>Clear + Few clouds</td>\n",
              "      <td>21.32</td>\n",
              "      <td>25.000</td>\n",
              "      <td>48</td>\n",
              "      <td>35.0008</td>\n",
              "      <td>256</td>\n",
              "      <td>2012-05-10</td>\n",
              "      <td>11</td>\n",
              "      <td>3</td>\n",
              "      <td>5</td>\n",
              "    </tr>\n",
              "    <tr>\n",
              "      <th>1</th>\n",
              "      <td>2012-06-09 07:00:00</td>\n",
              "      <td>Summer</td>\n",
              "      <td>0</td>\n",
              "      <td>0</td>\n",
              "      <td>Clear + Few clouds</td>\n",
              "      <td>23.78</td>\n",
              "      <td>27.275</td>\n",
              "      <td>64</td>\n",
              "      <td>7.0015</td>\n",
              "      <td>87</td>\n",
              "      <td>2012-06-09</td>\n",
              "      <td>7</td>\n",
              "      <td>5</td>\n",
              "      <td>6</td>\n",
              "    </tr>\n",
              "    <tr>\n",
              "      <th>2</th>\n",
              "      <td>2011-03-06 20:00:00</td>\n",
              "      <td>Spring</td>\n",
              "      <td>0</td>\n",
              "      <td>0</td>\n",
              "      <td>Light Snow, Light Rain</td>\n",
              "      <td>11.48</td>\n",
              "      <td>12.120</td>\n",
              "      <td>100</td>\n",
              "      <td>27.9993</td>\n",
              "      <td>11</td>\n",
              "      <td>2011-03-06</td>\n",
              "      <td>20</td>\n",
              "      <td>6</td>\n",
              "      <td>3</td>\n",
              "    </tr>\n",
              "    <tr>\n",
              "      <th>3</th>\n",
              "      <td>2011-10-13 11:00:00</td>\n",
              "      <td>Winter</td>\n",
              "      <td>0</td>\n",
              "      <td>1</td>\n",
              "      <td>Mist + Cloudy</td>\n",
              "      <td>25.42</td>\n",
              "      <td>28.790</td>\n",
              "      <td>83</td>\n",
              "      <td>0.0000</td>\n",
              "      <td>84</td>\n",
              "      <td>2011-10-13</td>\n",
              "      <td>11</td>\n",
              "      <td>3</td>\n",
              "      <td>10</td>\n",
              "    </tr>\n",
              "    <tr>\n",
              "      <th>4</th>\n",
              "      <td>2012-06-02 12:00:00</td>\n",
              "      <td>Summer</td>\n",
              "      <td>0</td>\n",
              "      <td>0</td>\n",
              "      <td>Clear + Few clouds</td>\n",
              "      <td>25.42</td>\n",
              "      <td>31.060</td>\n",
              "      <td>43</td>\n",
              "      <td>23.9994</td>\n",
              "      <td>668</td>\n",
              "      <td>2012-06-02</td>\n",
              "      <td>12</td>\n",
              "      <td>5</td>\n",
              "      <td>6</td>\n",
              "    </tr>\n",
              "  </tbody>\n",
              "</table>\n",
              "</div>"
            ],
            "text/plain": [
              "             datetime  season  holiday  ...  hour weekday  month\n",
              "0 2012-05-10 11:00:00  Summer        0  ...    11       3      5\n",
              "1 2012-06-09 07:00:00  Summer        0  ...     7       5      6\n",
              "2 2011-03-06 20:00:00  Spring        0  ...    20       6      3\n",
              "3 2011-10-13 11:00:00  Winter        0  ...    11       3     10\n",
              "4 2012-06-02 12:00:00  Summer        0  ...    12       5      6\n",
              "\n",
              "[5 rows x 14 columns]"
            ]
          },
          "metadata": {},
          "execution_count": 141
        }
      ]
    },
    {
      "cell_type": "markdown",
      "metadata": {
        "id": "PhvYjDz45kgr"
      },
      "source": [
        "#### Converting the datatype of season, holiday, workingday, and weather to category in training and testing dataset.\n",
        "#### Displaying datatypes of each column of training and testing dataset after conversion."
      ]
    },
    {
      "cell_type": "code",
      "metadata": {
        "colab": {
          "base_uri": "https://localhost:8080/"
        },
        "id": "A8L7OErp6zKS",
        "outputId": "fc722ee0-a032-4e56-d34c-0aebc1f312d5"
      },
      "source": [
        "training_data['season'] = training_data['season'].astype('category')\n",
        "training_data['holiday'] = training_data['holiday'].astype('category')\n",
        "training_data['workingday'] = training_data['workingday'].astype('category')\n",
        "training_data['weather'] = training_data['weather'].astype('category')\n",
        "training_data['date'] = pd.to_numeric(pd.to_datetime(training_data['date']))\n",
        "training_data.info()\n",
        "print('\\n--------------------------------------------\\n')\n",
        "testing_data['season'] = testing_data['season'].astype('category')\n",
        "testing_data['holiday'] = testing_data['holiday'].astype('category')\n",
        "testing_data['workingday'] = testing_data['workingday'].astype('category')\n",
        "testing_data['weather'] = testing_data['weather'].astype('category')\n",
        "testing_data['date'] = pd.to_numeric(pd.to_datetime(testing_data['date']))\n",
        "testing_data.info()"
      ],
      "execution_count": null,
      "outputs": [
        {
          "output_type": "stream",
          "name": "stdout",
          "text": [
            "<class 'pandas.core.frame.DataFrame'>\n",
            "RangeIndex: 8708 entries, 0 to 8707\n",
            "Data columns (total 14 columns):\n",
            " #   Column         Non-Null Count  Dtype         \n",
            "---  ------         --------------  -----         \n",
            " 0   datetime       8708 non-null   datetime64[ns]\n",
            " 1   season         8708 non-null   category      \n",
            " 2   holiday        8708 non-null   category      \n",
            " 3   workingday     8708 non-null   category      \n",
            " 4   weather        8708 non-null   category      \n",
            " 5   temp           8708 non-null   float64       \n",
            " 6   atemp          8708 non-null   float64       \n",
            " 7   humidity       8708 non-null   int64         \n",
            " 8   windspeed      8708 non-null   float64       \n",
            " 9   Total_booking  8708 non-null   int64         \n",
            " 10  date           8708 non-null   int64         \n",
            " 11  hour           8708 non-null   int64         \n",
            " 12  weekday        8708 non-null   int64         \n",
            " 13  month          8708 non-null   int64         \n",
            "dtypes: category(4), datetime64[ns](1), float64(3), int64(6)\n",
            "memory usage: 715.0 KB\n",
            "\n",
            "--------------------------------------------\n",
            "\n",
            "<class 'pandas.core.frame.DataFrame'>\n",
            "RangeIndex: 2178 entries, 0 to 2177\n",
            "Data columns (total 14 columns):\n",
            " #   Column         Non-Null Count  Dtype         \n",
            "---  ------         --------------  -----         \n",
            " 0   datetime       2178 non-null   datetime64[ns]\n",
            " 1   season         2178 non-null   category      \n",
            " 2   holiday        2178 non-null   category      \n",
            " 3   workingday     2178 non-null   category      \n",
            " 4   weather        2178 non-null   category      \n",
            " 5   temp           2178 non-null   float64       \n",
            " 6   atemp          2178 non-null   float64       \n",
            " 7   humidity       2178 non-null   int64         \n",
            " 8   windspeed      2178 non-null   float64       \n",
            " 9   Total_booking  2178 non-null   int64         \n",
            " 10  date           2178 non-null   int64         \n",
            " 11  hour           2178 non-null   int64         \n",
            " 12  weekday        2178 non-null   int64         \n",
            " 13  month          2178 non-null   int64         \n",
            "dtypes: category(4), datetime64[ns](1), float64(3), int64(6)\n",
            "memory usage: 179.3 KB\n"
          ]
        }
      ]
    },
    {
      "cell_type": "markdown",
      "metadata": {
        "id": "xMKCr58f9aDd"
      },
      "source": [
        "#### Dropping the datetime column as we have already extracted useful features from it in training and testing dataset.\n",
        "#### Dispalying first few training and testing dataset after dropping datetime column."
      ]
    },
    {
      "cell_type": "code",
      "metadata": {
        "colab": {
          "base_uri": "https://localhost:8080/",
          "height": 447
        },
        "id": "UgL_65m172ya",
        "outputId": "cda58b66-ee4e-4b1a-c9dd-41f228599e76"
      },
      "source": [
        "training_data.drop('datetime',axis=1,inplace=True)\n",
        "training_data.head()\n",
        "print('\\n----------------------------------------\\n')\n",
        "testing_data.drop('datetime',axis=1,inplace=True)\n",
        "testing_data.head()"
      ],
      "execution_count": null,
      "outputs": [
        {
          "output_type": "execute_result",
          "data": {
            "text/html": [
              "<div>\n",
              "<style scoped>\n",
              "    .dataframe tbody tr th:only-of-type {\n",
              "        vertical-align: middle;\n",
              "    }\n",
              "\n",
              "    .dataframe tbody tr th {\n",
              "        vertical-align: top;\n",
              "    }\n",
              "\n",
              "    .dataframe thead th {\n",
              "        text-align: right;\n",
              "    }\n",
              "</style>\n",
              "<table border=\"1\" class=\"dataframe\">\n",
              "  <thead>\n",
              "    <tr style=\"text-align: right;\">\n",
              "      <th></th>\n",
              "      <th>season</th>\n",
              "      <th>holiday</th>\n",
              "      <th>workingday</th>\n",
              "      <th>weather</th>\n",
              "      <th>temp</th>\n",
              "      <th>atemp</th>\n",
              "      <th>humidity</th>\n",
              "      <th>windspeed</th>\n",
              "      <th>Total_booking</th>\n",
              "      <th>date</th>\n",
              "      <th>hour</th>\n",
              "      <th>weekday</th>\n",
              "      <th>month</th>\n",
              "    </tr>\n",
              "  </thead>\n",
              "  <tbody>\n",
              "    <tr>\n",
              "      <th>0</th>\n",
              "      <td>Summer</td>\n",
              "      <td>0</td>\n",
              "      <td>1</td>\n",
              "      <td>Clear + Few clouds</td>\n",
              "      <td>22.14</td>\n",
              "      <td>25.760</td>\n",
              "      <td>77</td>\n",
              "      <td>16.9979</td>\n",
              "      <td>504</td>\n",
              "      <td>1335916800000000000</td>\n",
              "      <td>19</td>\n",
              "      <td>2</td>\n",
              "      <td>5</td>\n",
              "    </tr>\n",
              "    <tr>\n",
              "      <th>1</th>\n",
              "      <td>Fall</td>\n",
              "      <td>0</td>\n",
              "      <td>1</td>\n",
              "      <td>Clear + Few clouds</td>\n",
              "      <td>28.70</td>\n",
              "      <td>33.335</td>\n",
              "      <td>79</td>\n",
              "      <td>19.0012</td>\n",
              "      <td>5</td>\n",
              "      <td>1346803200000000000</td>\n",
              "      <td>4</td>\n",
              "      <td>2</td>\n",
              "      <td>9</td>\n",
              "    </tr>\n",
              "    <tr>\n",
              "      <th>2</th>\n",
              "      <td>Spring</td>\n",
              "      <td>0</td>\n",
              "      <td>1</td>\n",
              "      <td>Clear + Few clouds</td>\n",
              "      <td>5.74</td>\n",
              "      <td>6.060</td>\n",
              "      <td>50</td>\n",
              "      <td>22.0028</td>\n",
              "      <td>139</td>\n",
              "      <td>1294876800000000000</td>\n",
              "      <td>9</td>\n",
              "      <td>3</td>\n",
              "      <td>1</td>\n",
              "    </tr>\n",
              "    <tr>\n",
              "      <th>3</th>\n",
              "      <td>Winter</td>\n",
              "      <td>0</td>\n",
              "      <td>1</td>\n",
              "      <td>Clear + Few clouds</td>\n",
              "      <td>13.94</td>\n",
              "      <td>16.665</td>\n",
              "      <td>29</td>\n",
              "      <td>8.9981</td>\n",
              "      <td>209</td>\n",
              "      <td>1321574400000000000</td>\n",
              "      <td>16</td>\n",
              "      <td>4</td>\n",
              "      <td>11</td>\n",
              "    </tr>\n",
              "    <tr>\n",
              "      <th>4</th>\n",
              "      <td>Fall</td>\n",
              "      <td>0</td>\n",
              "      <td>1</td>\n",
              "      <td>Clear + Few clouds</td>\n",
              "      <td>30.34</td>\n",
              "      <td>33.335</td>\n",
              "      <td>51</td>\n",
              "      <td>19.0012</td>\n",
              "      <td>184</td>\n",
              "      <td>1315872000000000000</td>\n",
              "      <td>13</td>\n",
              "      <td>1</td>\n",
              "      <td>9</td>\n",
              "    </tr>\n",
              "  </tbody>\n",
              "</table>\n",
              "</div>"
            ],
            "text/plain": [
              "   season holiday workingday  ... hour  weekday  month\n",
              "0  Summer       0          1  ...   19        2      5\n",
              "1    Fall       0          1  ...    4        2      9\n",
              "2  Spring       0          1  ...    9        3      1\n",
              "3  Winter       0          1  ...   16        4     11\n",
              "4    Fall       0          1  ...   13        1      9\n",
              "\n",
              "[5 rows x 13 columns]"
            ]
          },
          "metadata": {},
          "execution_count": 143
        },
        {
          "output_type": "stream",
          "name": "stdout",
          "text": [
            "\n",
            "----------------------------------------\n",
            "\n"
          ]
        },
        {
          "output_type": "execute_result",
          "data": {
            "text/html": [
              "<div>\n",
              "<style scoped>\n",
              "    .dataframe tbody tr th:only-of-type {\n",
              "        vertical-align: middle;\n",
              "    }\n",
              "\n",
              "    .dataframe tbody tr th {\n",
              "        vertical-align: top;\n",
              "    }\n",
              "\n",
              "    .dataframe thead th {\n",
              "        text-align: right;\n",
              "    }\n",
              "</style>\n",
              "<table border=\"1\" class=\"dataframe\">\n",
              "  <thead>\n",
              "    <tr style=\"text-align: right;\">\n",
              "      <th></th>\n",
              "      <th>season</th>\n",
              "      <th>holiday</th>\n",
              "      <th>workingday</th>\n",
              "      <th>weather</th>\n",
              "      <th>temp</th>\n",
              "      <th>atemp</th>\n",
              "      <th>humidity</th>\n",
              "      <th>windspeed</th>\n",
              "      <th>Total_booking</th>\n",
              "      <th>date</th>\n",
              "      <th>hour</th>\n",
              "      <th>weekday</th>\n",
              "      <th>month</th>\n",
              "    </tr>\n",
              "  </thead>\n",
              "  <tbody>\n",
              "    <tr>\n",
              "      <th>0</th>\n",
              "      <td>Summer</td>\n",
              "      <td>0</td>\n",
              "      <td>1</td>\n",
              "      <td>Clear + Few clouds</td>\n",
              "      <td>21.32</td>\n",
              "      <td>25.000</td>\n",
              "      <td>48</td>\n",
              "      <td>35.0008</td>\n",
              "      <td>256</td>\n",
              "      <td>1336608000000000000</td>\n",
              "      <td>11</td>\n",
              "      <td>3</td>\n",
              "      <td>5</td>\n",
              "    </tr>\n",
              "    <tr>\n",
              "      <th>1</th>\n",
              "      <td>Summer</td>\n",
              "      <td>0</td>\n",
              "      <td>0</td>\n",
              "      <td>Clear + Few clouds</td>\n",
              "      <td>23.78</td>\n",
              "      <td>27.275</td>\n",
              "      <td>64</td>\n",
              "      <td>7.0015</td>\n",
              "      <td>87</td>\n",
              "      <td>1339200000000000000</td>\n",
              "      <td>7</td>\n",
              "      <td>5</td>\n",
              "      <td>6</td>\n",
              "    </tr>\n",
              "    <tr>\n",
              "      <th>2</th>\n",
              "      <td>Spring</td>\n",
              "      <td>0</td>\n",
              "      <td>0</td>\n",
              "      <td>Light Snow, Light Rain</td>\n",
              "      <td>11.48</td>\n",
              "      <td>12.120</td>\n",
              "      <td>100</td>\n",
              "      <td>27.9993</td>\n",
              "      <td>11</td>\n",
              "      <td>1299369600000000000</td>\n",
              "      <td>20</td>\n",
              "      <td>6</td>\n",
              "      <td>3</td>\n",
              "    </tr>\n",
              "    <tr>\n",
              "      <th>3</th>\n",
              "      <td>Winter</td>\n",
              "      <td>0</td>\n",
              "      <td>1</td>\n",
              "      <td>Mist + Cloudy</td>\n",
              "      <td>25.42</td>\n",
              "      <td>28.790</td>\n",
              "      <td>83</td>\n",
              "      <td>0.0000</td>\n",
              "      <td>84</td>\n",
              "      <td>1318464000000000000</td>\n",
              "      <td>11</td>\n",
              "      <td>3</td>\n",
              "      <td>10</td>\n",
              "    </tr>\n",
              "    <tr>\n",
              "      <th>4</th>\n",
              "      <td>Summer</td>\n",
              "      <td>0</td>\n",
              "      <td>0</td>\n",
              "      <td>Clear + Few clouds</td>\n",
              "      <td>25.42</td>\n",
              "      <td>31.060</td>\n",
              "      <td>43</td>\n",
              "      <td>23.9994</td>\n",
              "      <td>668</td>\n",
              "      <td>1338595200000000000</td>\n",
              "      <td>12</td>\n",
              "      <td>5</td>\n",
              "      <td>6</td>\n",
              "    </tr>\n",
              "  </tbody>\n",
              "</table>\n",
              "</div>"
            ],
            "text/plain": [
              "   season holiday workingday  ... hour  weekday  month\n",
              "0  Summer       0          1  ...   11        3      5\n",
              "1  Summer       0          0  ...    7        5      6\n",
              "2  Spring       0          0  ...   20        6      3\n",
              "3  Winter       0          1  ...   11        3     10\n",
              "4  Summer       0          0  ...   12        5      6\n",
              "\n",
              "[5 rows x 13 columns]"
            ]
          },
          "metadata": {},
          "execution_count": 143
        }
      ]
    },
    {
      "cell_type": "markdown",
      "metadata": {
        "id": "lQfp_e2P-uzj"
      },
      "source": [
        "## 4. Perform Outlier Analysis:\n",
        "### a. Plot Box plots across various features like season, hour of the day, working_day, etc to see if there are any Outlier and note down your inference\n",
        "### b. Remove the outliers present in the dataset"
      ]
    },
    {
      "cell_type": "code",
      "metadata": {
        "colab": {
          "base_uri": "https://localhost:8080/",
          "height": 583
        },
        "id": "2UPIpIupJnGw",
        "outputId": "ee689463-8265-4d40-81cb-6bae137a3634"
      },
      "source": [
        "training_data.describe()\n",
        "testing_data.describe()"
      ],
      "execution_count": null,
      "outputs": [
        {
          "output_type": "execute_result",
          "data": {
            "text/html": [
              "<div>\n",
              "<style scoped>\n",
              "    .dataframe tbody tr th:only-of-type {\n",
              "        vertical-align: middle;\n",
              "    }\n",
              "\n",
              "    .dataframe tbody tr th {\n",
              "        vertical-align: top;\n",
              "    }\n",
              "\n",
              "    .dataframe thead th {\n",
              "        text-align: right;\n",
              "    }\n",
              "</style>\n",
              "<table border=\"1\" class=\"dataframe\">\n",
              "  <thead>\n",
              "    <tr style=\"text-align: right;\">\n",
              "      <th></th>\n",
              "      <th>temp</th>\n",
              "      <th>atemp</th>\n",
              "      <th>humidity</th>\n",
              "      <th>windspeed</th>\n",
              "      <th>Total_booking</th>\n",
              "      <th>date</th>\n",
              "      <th>hour</th>\n",
              "      <th>weekday</th>\n",
              "      <th>month</th>\n",
              "    </tr>\n",
              "  </thead>\n",
              "  <tbody>\n",
              "    <tr>\n",
              "      <th>count</th>\n",
              "      <td>8708.000000</td>\n",
              "      <td>8708.000000</td>\n",
              "      <td>8708.000000</td>\n",
              "      <td>8708.000000</td>\n",
              "      <td>8708.000000</td>\n",
              "      <td>8.708000e+03</td>\n",
              "      <td>8708.000000</td>\n",
              "      <td>8708.000000</td>\n",
              "      <td>8708.000000</td>\n",
              "    </tr>\n",
              "    <tr>\n",
              "      <th>mean</th>\n",
              "      <td>20.243020</td>\n",
              "      <td>23.655552</td>\n",
              "      <td>61.649173</td>\n",
              "      <td>12.843891</td>\n",
              "      <td>193.007005</td>\n",
              "      <td>1.325047e+18</td>\n",
              "      <td>11.581190</td>\n",
              "      <td>3.015618</td>\n",
              "      <td>6.528709</td>\n",
              "    </tr>\n",
              "    <tr>\n",
              "      <th>std</th>\n",
              "      <td>7.813494</td>\n",
              "      <td>8.501107</td>\n",
              "      <td>19.199578</td>\n",
              "      <td>8.190314</td>\n",
              "      <td>181.552211</td>\n",
              "      <td>1.827242e+16</td>\n",
              "      <td>6.890534</td>\n",
              "      <td>2.006246</td>\n",
              "      <td>3.440879</td>\n",
              "    </tr>\n",
              "    <tr>\n",
              "      <th>min</th>\n",
              "      <td>0.820000</td>\n",
              "      <td>0.760000</td>\n",
              "      <td>0.000000</td>\n",
              "      <td>0.000000</td>\n",
              "      <td>1.000000</td>\n",
              "      <td>1.293840e+18</td>\n",
              "      <td>0.000000</td>\n",
              "      <td>0.000000</td>\n",
              "      <td>1.000000</td>\n",
              "    </tr>\n",
              "    <tr>\n",
              "      <th>25%</th>\n",
              "      <td>13.940000</td>\n",
              "      <td>16.665000</td>\n",
              "      <td>46.000000</td>\n",
              "      <td>7.001500</td>\n",
              "      <td>43.000000</td>\n",
              "      <td>1.309478e+18</td>\n",
              "      <td>6.000000</td>\n",
              "      <td>1.000000</td>\n",
              "      <td>4.000000</td>\n",
              "    </tr>\n",
              "    <tr>\n",
              "      <th>50%</th>\n",
              "      <td>20.500000</td>\n",
              "      <td>24.240000</td>\n",
              "      <td>61.000000</td>\n",
              "      <td>12.998000</td>\n",
              "      <td>148.000000</td>\n",
              "      <td>1.325549e+18</td>\n",
              "      <td>12.000000</td>\n",
              "      <td>3.000000</td>\n",
              "      <td>7.000000</td>\n",
              "    </tr>\n",
              "    <tr>\n",
              "      <th>75%</th>\n",
              "      <td>26.240000</td>\n",
              "      <td>31.060000</td>\n",
              "      <td>77.000000</td>\n",
              "      <td>16.997900</td>\n",
              "      <td>286.000000</td>\n",
              "      <td>1.341274e+18</td>\n",
              "      <td>18.000000</td>\n",
              "      <td>5.000000</td>\n",
              "      <td>10.000000</td>\n",
              "    </tr>\n",
              "    <tr>\n",
              "      <th>max</th>\n",
              "      <td>41.000000</td>\n",
              "      <td>45.455000</td>\n",
              "      <td>100.000000</td>\n",
              "      <td>56.996900</td>\n",
              "      <td>977.000000</td>\n",
              "      <td>1.355875e+18</td>\n",
              "      <td>23.000000</td>\n",
              "      <td>6.000000</td>\n",
              "      <td>12.000000</td>\n",
              "    </tr>\n",
              "  </tbody>\n",
              "</table>\n",
              "</div>"
            ],
            "text/plain": [
              "              temp        atemp  ...      weekday        month\n",
              "count  8708.000000  8708.000000  ...  8708.000000  8708.000000\n",
              "mean     20.243020    23.655552  ...     3.015618     6.528709\n",
              "std       7.813494     8.501107  ...     2.006246     3.440879\n",
              "min       0.820000     0.760000  ...     0.000000     1.000000\n",
              "25%      13.940000    16.665000  ...     1.000000     4.000000\n",
              "50%      20.500000    24.240000  ...     3.000000     7.000000\n",
              "75%      26.240000    31.060000  ...     5.000000    10.000000\n",
              "max      41.000000    45.455000  ...     6.000000    12.000000\n",
              "\n",
              "[8 rows x 9 columns]"
            ]
          },
          "metadata": {},
          "execution_count": 144
        },
        {
          "output_type": "execute_result",
          "data": {
            "text/html": [
              "<div>\n",
              "<style scoped>\n",
              "    .dataframe tbody tr th:only-of-type {\n",
              "        vertical-align: middle;\n",
              "    }\n",
              "\n",
              "    .dataframe tbody tr th {\n",
              "        vertical-align: top;\n",
              "    }\n",
              "\n",
              "    .dataframe thead th {\n",
              "        text-align: right;\n",
              "    }\n",
              "</style>\n",
              "<table border=\"1\" class=\"dataframe\">\n",
              "  <thead>\n",
              "    <tr style=\"text-align: right;\">\n",
              "      <th></th>\n",
              "      <th>temp</th>\n",
              "      <th>atemp</th>\n",
              "      <th>humidity</th>\n",
              "      <th>windspeed</th>\n",
              "      <th>Total_booking</th>\n",
              "      <th>date</th>\n",
              "      <th>hour</th>\n",
              "      <th>weekday</th>\n",
              "      <th>month</th>\n",
              "    </tr>\n",
              "  </thead>\n",
              "  <tbody>\n",
              "    <tr>\n",
              "      <th>count</th>\n",
              "      <td>2178.000000</td>\n",
              "      <td>2178.000000</td>\n",
              "      <td>2178.000000</td>\n",
              "      <td>2178.000000</td>\n",
              "      <td>2178.000000</td>\n",
              "      <td>2.178000e+03</td>\n",
              "      <td>2178.000000</td>\n",
              "      <td>2178.000000</td>\n",
              "      <td>2178.000000</td>\n",
              "    </tr>\n",
              "    <tr>\n",
              "      <th>mean</th>\n",
              "      <td>20.182241</td>\n",
              "      <td>23.653214</td>\n",
              "      <td>62.835170</td>\n",
              "      <td>12.621496</td>\n",
              "      <td>185.845271</td>\n",
              "      <td>1.324432e+18</td>\n",
              "      <td>11.383379</td>\n",
              "      <td>3.007346</td>\n",
              "      <td>6.492654</td>\n",
              "    </tr>\n",
              "    <tr>\n",
              "      <th>std</th>\n",
              "      <td>7.704978</td>\n",
              "      <td>8.369721</td>\n",
              "      <td>19.401161</td>\n",
              "      <td>8.060062</td>\n",
              "      <td>179.431987</td>\n",
              "      <td>1.784138e+16</td>\n",
              "      <td>7.015466</td>\n",
              "      <td>1.998378</td>\n",
              "      <td>3.458952</td>\n",
              "    </tr>\n",
              "    <tr>\n",
              "      <th>min</th>\n",
              "      <td>3.280000</td>\n",
              "      <td>3.790000</td>\n",
              "      <td>0.000000</td>\n",
              "      <td>0.000000</td>\n",
              "      <td>1.000000</td>\n",
              "      <td>1.293840e+18</td>\n",
              "      <td>0.000000</td>\n",
              "      <td>0.000000</td>\n",
              "      <td>1.000000</td>\n",
              "    </tr>\n",
              "    <tr>\n",
              "      <th>25%</th>\n",
              "      <td>13.940000</td>\n",
              "      <td>16.665000</td>\n",
              "      <td>48.000000</td>\n",
              "      <td>7.001500</td>\n",
              "      <td>38.000000</td>\n",
              "      <td>1.309651e+18</td>\n",
              "      <td>5.000000</td>\n",
              "      <td>1.000000</td>\n",
              "      <td>3.000000</td>\n",
              "    </tr>\n",
              "    <tr>\n",
              "      <th>50%</th>\n",
              "      <td>20.500000</td>\n",
              "      <td>24.240000</td>\n",
              "      <td>63.000000</td>\n",
              "      <td>11.001400</td>\n",
              "      <td>136.000000</td>\n",
              "      <td>1.323778e+18</td>\n",
              "      <td>11.000000</td>\n",
              "      <td>3.000000</td>\n",
              "      <td>7.000000</td>\n",
              "    </tr>\n",
              "    <tr>\n",
              "      <th>75%</th>\n",
              "      <td>26.240000</td>\n",
              "      <td>31.060000</td>\n",
              "      <td>78.000000</td>\n",
              "      <td>16.997900</td>\n",
              "      <td>277.000000</td>\n",
              "      <td>1.339351e+18</td>\n",
              "      <td>18.000000</td>\n",
              "      <td>5.000000</td>\n",
              "      <td>10.000000</td>\n",
              "    </tr>\n",
              "    <tr>\n",
              "      <th>max</th>\n",
              "      <td>38.540000</td>\n",
              "      <td>44.695000</td>\n",
              "      <td>100.000000</td>\n",
              "      <td>56.996900</td>\n",
              "      <td>901.000000</td>\n",
              "      <td>1.355875e+18</td>\n",
              "      <td>23.000000</td>\n",
              "      <td>6.000000</td>\n",
              "      <td>12.000000</td>\n",
              "    </tr>\n",
              "  </tbody>\n",
              "</table>\n",
              "</div>"
            ],
            "text/plain": [
              "              temp        atemp  ...      weekday        month\n",
              "count  2178.000000  2178.000000  ...  2178.000000  2178.000000\n",
              "mean     20.182241    23.653214  ...     3.007346     6.492654\n",
              "std       7.704978     8.369721  ...     1.998378     3.458952\n",
              "min       3.280000     3.790000  ...     0.000000     1.000000\n",
              "25%      13.940000    16.665000  ...     1.000000     3.000000\n",
              "50%      20.500000    24.240000  ...     3.000000     7.000000\n",
              "75%      26.240000    31.060000  ...     5.000000    10.000000\n",
              "max      38.540000    44.695000  ...     6.000000    12.000000\n",
              "\n",
              "[8 rows x 9 columns]"
            ]
          },
          "metadata": {},
          "execution_count": 144
        }
      ]
    },
    {
      "cell_type": "code",
      "metadata": {
        "colab": {
          "base_uri": "https://localhost:8080/",
          "height": 1000
        },
        "id": "0TiK1WyODYHL",
        "outputId": "18236b37-d045-4f24-e02c-7791c2d0ac4f"
      },
      "source": [
        "fig, axes = plt.subplots(2, 2, figsize=(15, 7), sharey=True)\n",
        "fig.suptitle('Plotting continuous varibles of Training dataset using Boxplot')\n",
        "sns.boxplot(ax=axes[0,0],data=training_data,x='temp')\n",
        "sns.boxplot(ax=axes[0,1],data=training_data,x='atemp')\n",
        "sns.boxplot(ax=axes[1,0],data=training_data,x='humidity')\n",
        "sns.boxplot(ax=axes[1,1],data=training_data,x='windspeed')\n",
        "plt.show();\n",
        "\n",
        "print('\\n------------------------------------------\\n')\n",
        "\n",
        "fig, axes = plt.subplots(2, 2, figsize=(15, 7), sharey=True)\n",
        "fig.suptitle('Plotting continuous varibles of Testing dataset using Boxplot')\n",
        "sns.boxplot(ax=axes[0,0],data=testing_data,x='temp')\n",
        "sns.boxplot(ax=axes[0,1],data=testing_data,x='atemp')\n",
        "sns.boxplot(ax=axes[1,0],data=testing_data,x='humidity')\n",
        "sns.boxplot(ax=axes[1,1],data=testing_data,x='windspeed')\n",
        "plt.show();"
      ],
      "execution_count": null,
      "outputs": [
        {
          "output_type": "display_data",
          "data": {
            "image/png": "[encoded data removed]",
            "text/plain": [
              "<Figure size 1080x504 with 4 Axes>"
            ]
          },
          "metadata": {
            "needs_background": "light"
          }
        },
        {
          "output_type": "stream",
          "name": "stdout",
          "text": [
            "\n",
            "------------------------------------------\n",
            "\n"
          ]
        },
        {
          "output_type": "display_data",
          "data": {
            "image/png": "[encoded data removed]",
            "text/plain": [
              "<Figure size 1080x504 with 4 Axes>"
            ]
          },
          "metadata": {
            "needs_background": "light"
          }
        }
      ]
    },
    {
      "cell_type": "code",
      "metadata": {
        "colab": {
          "base_uri": "https://localhost:8080/"
        },
        "id": "AwDZ5WcGuB5k",
        "outputId": "500eec30-3a56-4dc1-f3e5-8aad80612d56"
      },
      "source": [
        "def detect_outliers_iqr(data):\n",
        "    outliers = []\n",
        "    data = sorted(data)\n",
        "    q1 = np.percentile(data, 25)\n",
        "    q3 = np.percentile(data, 75)\n",
        "    # print(q1, q3)\n",
        "    IQR = q3-q1\n",
        "    lwr_bound = q1-(1.5*IQR)\n",
        "    upr_bound = q3+(1.5*IQR)\n",
        "    # print(lwr_bound, upr_bound)\n",
        "    for i in data: \n",
        "        if (i<lwr_bound or i>upr_bound):\n",
        "            outliers.append(i)\n",
        "    return outliers\n",
        "\n",
        "training_data_outliers = detect_outliers_iqr(training_data['windspeed'])\n",
        "print(\"Outliers from IQR method for Training data: \", training_data_outliers)\n",
        "\n",
        "testing_data_outliers = detect_outliers_iqr(testing_data['windspeed'])\n",
        "print(\"Outliers from IQR method for Testing data: \", testing_data_outliers)\n"
      ],
      "execution_count": null,
      "outputs": [
        {
          "output_type": "stream",
          "name": "stdout",
          "text": [
            "Outliers from IQR method for Training data:  [32.9975, 32.9975, 32.9975, 32.9975, 32.9975, 32.9975, 32.9975, 32.9975, 32.9975, 32.9975, 32.9975, 32.9975, 32.9975, 32.9975, 32.9975, 32.9975, 32.9975, 32.9975, 32.9975, 32.9975, 32.9975, 32.9975, 32.9975, 32.9975, 32.9975, 32.9975, 32.9975, 32.9975, 32.9975, 32.9975, 32.9975, 32.9975, 32.9975, 32.9975, 32.9975, 32.9975, 32.9975, 32.9975, 32.9975, 32.9975, 32.9975, 32.9975, 32.9975, 32.9975, 32.9975, 32.9975, 32.9975, 32.9975, 32.9975, 32.9975, 32.9975, 32.9975, 32.9975, 32.9975, 32.9975, 32.9975, 32.9975, 32.9975, 32.9975, 32.9975, 32.9975, 32.9975, 32.9975, 32.9975, 32.9975, 32.9975, 32.9975, 32.9975, 32.9975, 32.9975, 35.0008, 35.0008, 35.0008, 35.0008, 35.0008, 35.0008, 35.0008, 35.0008, 35.0008, 35.0008, 35.0008, 35.0008, 35.0008, 35.0008, 35.0008, 35.0008, 35.0008, 35.0008, 35.0008, 35.0008, 35.0008, 35.0008, 35.0008, 35.0008, 35.0008, 35.0008, 35.0008, 35.0008, 35.0008, 35.0008, 35.0008, 35.0008, 35.0008, 35.0008, 35.0008, 35.0008, 35.0008, 35.0008, 35.0008, 35.0008, 35.0008, 35.0008, 35.0008, 35.0008, 35.0008, 36.9974, 36.9974, 36.9974, 36.9974, 36.9974, 36.9974, 36.9974, 36.9974, 36.9974, 36.9974, 36.9974, 36.9974, 36.9974, 36.9974, 36.9974, 36.9974, 36.9974, 36.9974, 36.9974, 39.0007, 39.0007, 39.0007, 39.0007, 39.0007, 39.0007, 39.0007, 39.0007, 39.0007, 39.0007, 39.0007, 39.0007, 39.0007, 39.0007, 39.0007, 39.0007, 39.0007, 39.0007, 39.0007, 39.0007, 39.0007, 39.0007, 40.9973, 40.9973, 40.9973, 40.9973, 40.9973, 43.0006, 43.0006, 43.0006, 43.0006, 43.0006, 43.0006, 43.9989, 43.9989, 43.9989, 43.9989, 43.9989, 43.9989, 43.9989, 46.0022, 46.0022, 46.0022, 47.9988, 47.9988, 50.0021, 51.9987, 56.9969]\n",
            "Outliers from IQR method for Testing data:  [32.9975, 32.9975, 32.9975, 32.9975, 32.9975, 32.9975, 32.9975, 32.9975, 32.9975, 32.9975, 35.0008, 35.0008, 35.0008, 35.0008, 35.0008, 35.0008, 35.0008, 35.0008, 35.0008, 35.0008, 35.0008, 35.0008, 35.0008, 36.9974, 36.9974, 36.9974, 39.0007, 39.0007, 39.0007, 39.0007, 39.0007, 40.9973, 40.9973, 40.9973, 40.9973, 40.9973, 40.9973, 43.0006, 43.0006, 43.0006, 43.0006, 43.0006, 43.0006, 43.9989, 56.9969]\n"
          ]
        }
      ]
    },
    {
      "cell_type": "code",
      "metadata": {
        "colab": {
          "base_uri": "https://localhost:8080/"
        },
        "id": "5oCOtg_MxPaI",
        "outputId": "6ef1989d-fdb3-4fa0-a91a-b05af475673d"
      },
      "source": [
        "training_median = np.median(training_data['windspeed'])\n",
        "testing_median = np.median(training_data['windspeed'])\n",
        "print(\"Median of Windspeed in Training data: \",training_median)\n",
        "print(\"Median of Windspeed in Testing data: \",training_median)"
      ],
      "execution_count": null,
      "outputs": [
        {
          "output_type": "stream",
          "name": "stdout",
          "text": [
            "Median of Windspeed in Training data:  12.998\n",
            "Median of Windspeed in Testing data:  12.998\n"
          ]
        }
      ]
    },
    {
      "cell_type": "code",
      "metadata": {
        "id": "L5y3prPfAn6l"
      },
      "source": [
        "training_data['windspeed'] = training_data['windspeed'].apply(lambda x: training_median if x in training_data_outliers else x)\n",
        "testing_data['windspeed'] = testing_data['windspeed'].apply(lambda x: testing_median if x in testing_data_outliers else x)"
      ],
      "execution_count": null,
      "outputs": []
    },
    {
      "cell_type": "code",
      "metadata": {
        "colab": {
          "base_uri": "https://localhost:8080/",
          "height": 370
        },
        "id": "Uli2oSj_Fa8q",
        "outputId": "b86fc0a4-b7f0-4912-b351-e1dcc0a8c905"
      },
      "source": [
        "fig, axes = plt.subplots(1, 2, figsize=(15, 5), sharey=True)\n",
        "fig.suptitle('Plotting Boxplot on IDV windspeed of Training and Testing dataset')\n",
        "sns.boxplot(ax=axes[0],data=training_data,x='windspeed')\n",
        "sns.boxplot(ax=axes[1],data=testing_data,x='windspeed')\n",
        "plt.show();"
      ],
      "execution_count": null,
      "outputs": [
        {
          "output_type": "display_data",
          "data": {
            "image/png": "[encoded data removed]",
            "text/plain": [
              "<Figure size 1080x360 with 2 Axes>"
            ]
          },
          "metadata": {
            "needs_background": "light"
          }
        }
      ]
    },
    {
      "cell_type": "markdown",
      "metadata": {
        "id": "N27SKbFMre9u"
      },
      "source": [
        "#### Displaying percentage of labels of each categorical coulmn of Training and Testing dataset."
      ]
    },
    {
      "cell_type": "code",
      "metadata": {
        "colab": {
          "base_uri": "https://localhost:8080/"
        },
        "id": "fT0HSxOcpVb6",
        "outputId": "37e037b1-286a-4081-8845-348a62f0fd62"
      },
      "source": [
        "print(round(training_data['season'].value_counts(normalize=True)*100,2))\n",
        "print(round(training_data['holiday'].value_counts(normalize=True)*100,2))\n",
        "print(round(training_data['workingday'].value_counts(normalize=True)*100,2))\n",
        "print(round(training_data['weather'].value_counts(normalize=True)*100,2))\n",
        "\n",
        "print('\\n--------------------------------------\\n')\n",
        "\n",
        "print(round(testing_data['season'].value_counts(normalize=True)*100,2))\n",
        "print(round(testing_data['holiday'].value_counts(normalize=True)*100,2))\n",
        "print(round(testing_data['workingday'].value_counts(normalize=True)*100,2))\n",
        "print(round(testing_data['weather'].value_counts(normalize=True)*100,2))"
      ],
      "execution_count": null,
      "outputs": [
        {
          "output_type": "stream",
          "name": "stdout",
          "text": [
            "Summer    25.23\n",
            "Fall      25.14\n",
            "Winter    25.10\n",
            "Spring    24.53\n",
            "Name: season, dtype: float64\n",
            "0    97.15\n",
            "1     2.85\n",
            "Name: holiday, dtype: float64\n",
            "1    68.03\n",
            "0    31.97\n",
            "Name: workingday, dtype: float64\n",
            " Clear + Few clouds            66.07\n",
            " Mist + Cloudy                 26.14\n",
            " Light Snow, Light Rain         7.79\n",
            " Heavy Rain + Thunderstorm      0.01\n",
            "Name: weather, dtype: float64\n",
            "\n",
            "--------------------------------------\n",
            "\n",
            "Spring    25.25\n",
            "Winter    25.16\n",
            "Fall      24.98\n",
            "Summer    24.61\n",
            "Name: season, dtype: float64\n",
            "0    97.11\n",
            "1     2.89\n",
            "Name: holiday, dtype: float64\n",
            "1    68.32\n",
            "0    31.68\n",
            "Name: workingday, dtype: float64\n",
            " Clear + Few clouds        66.07\n",
            " Mist + Cloudy             25.62\n",
            " Light Snow, Light Rain     8.31\n",
            "Name: weather, dtype: float64\n"
          ]
        }
      ]
    },
    {
      "cell_type": "markdown",
      "metadata": {
        "id": "897xoTXHtlJh"
      },
      "source": [
        "#### Plotting countplot for categorical coulmns of Training and Testing dataset."
      ]
    },
    {
      "cell_type": "code",
      "metadata": {
        "colab": {
          "base_uri": "https://localhost:8080/",
          "height": 595
        },
        "id": "ELVCzeqLLHR2",
        "outputId": "be010057-0935-455e-8506-b86cc4eef1da"
      },
      "source": [
        "fig, axes = plt.subplots(2, 2, figsize=(15, 7), sharey=True)\n",
        "fig.suptitle('Countplot for categorical coulmns of Training dataset')\n",
        "sns.countplot(ax=axes[0,0], x = 'season',data=training_data)\n",
        "sns.countplot(ax=axes[0,1], x = 'holiday',data=training_data)\n",
        "sns.countplot(ax=axes[1,0], x = 'workingday',data=training_data)\n",
        "sns.countplot(ax=axes[1,1], x = 'weather',data=training_data)\n",
        "plt.xticks(rotation=45)\n",
        "plt.show();"
      ],
      "execution_count": null,
      "outputs": [
        {
          "output_type": "display_data",
          "data": {
            "image/png": "[encoded data removed]",
            "text/plain": [
              "<Figure size 1080x504 with 4 Axes>"
            ]
          },
          "metadata": {
            "needs_background": "light"
          }
        }
      ]
    },
    {
      "cell_type": "code",
      "metadata": {
        "id": "OrQ50mk3kpOW"
      },
      "source": [
        "training_data['weather'] = training_data['weather'].str.strip().astype('category')\n",
        "testing_data['weather'] = testing_data['weather'].str.strip().astype('category')"
      ],
      "execution_count": null,
      "outputs": []
    },
    {
      "cell_type": "code",
      "metadata": {
        "id": "x2U5hTcLY67v"
      },
      "source": [
        "training_data['weather'].replace(\"Heavy Rain + Thunderstorm\", \n",
        "\"Clear + Few clouds\",inplace=True)"
      ],
      "execution_count": null,
      "outputs": []
    },
    {
      "cell_type": "markdown",
      "metadata": {
        "id": "J6jjT_qVSmXO"
      },
      "source": [
        "## 5. Perform Correlation Analysis:\n",
        "### a. Plot a correlation plot between \"total booking\" and [\"temp\", \"atemp\", \"humidity\",\"windspeed\"]\n",
        "### b. Write down your inference in the markdown cell"
      ]
    },
    {
      "cell_type": "code",
      "metadata": {
        "id": "gANnxSvlkRyD"
      },
      "source": [
        "training_data_corrMatrix = training_data[['Total_booking','temp','atemp','humidity','windspeed']].corr()\n",
        "testing_data_corrMatrix = training_data[['Total_booking','temp','atemp','humidity','windspeed']].corr()"
      ],
      "execution_count": null,
      "outputs": []
    },
    {
      "cell_type": "code",
      "metadata": {
        "colab": {
          "base_uri": "https://localhost:8080/",
          "height": 371
        },
        "id": "tPpHU1t6TDE9",
        "outputId": "8693feb2-d535-4255-a5b4-cc53a41ec40c"
      },
      "source": [
        "fig, axes = plt.subplots(1, 2, figsize=(15, 5), sharey=True)\n",
        "fig.suptitle('Plotting correlation between IDV & DV of Training and Testing dataset')\n",
        "sns.heatmap(ax=axes[0],data=training_data_corrMatrix,annot=True)\n",
        "axes[0].set_xlabel(\"correlation b/w IDV & DV in Training data\")\n",
        "sns.heatmap(ax=axes[1],data=testing_data_corrMatrix,annot=True)\n",
        "axes[1].set_xlabel(\"correlation b/w IDV & DV in Testing data\")\n",
        "plt.show();"
      ],
      "execution_count": null,
      "outputs": [
        {
          "output_type": "display_data",
          "data": {
            "image/png": "[encoded data removed]",
            "text/plain": [
              "<Figure size 1080x360 with 4 Axes>"
            ]
          },
          "metadata": {
            "needs_background": "light"
          }
        }
      ]
    },
    {
      "cell_type": "markdown",
      "metadata": {
        "id": "-otNXHI8ZCLv"
      },
      "source": [
        "#### Inference from correlation plot\n",
        "##### 1. IDV - \"temp\" & \"atemp\" has positive correlation above 35% with the ID - \"Total_booking\" in Training and Testing dataset.\n",
        "##### 2. IDV - \"humidity\" has negative correlation above 30% with the ID - \"Total_booking\" in Training and Testing dataset.\n",
        "##### 3. IDV - \"windspeed\" has less positive correlation ie.,10% with the ID - \"Total_booking\" in Training and Testing dataset."
      ]
    },
    {
      "cell_type": "markdown",
      "metadata": {
        "id": "Lm7F5F82akT2"
      },
      "source": [
        "## 6. Perform Data Visualization: \n",
        "### a. Visualize distribution of data: total_booking column and plot the probability distribution plot for the column as well \n",
        "### b. Visualize total_booking vs (Month, Season, Hour, Weekday, Usertype)\n",
        "### c. Use Histograms to plot all the continuous variables present in the data"
      ]
    },
    {
      "cell_type": "markdown",
      "metadata": {
        "id": "APElRyaI1Obg"
      },
      "source": [
        "#### Probability distribution plot on total_booking column of Traning & Testing dataset"
      ]
    },
    {
      "cell_type": "code",
      "metadata": {
        "colab": {
          "base_uri": "https://localhost:8080/",
          "height": 683
        },
        "id": "rsABHZ21UsTD",
        "outputId": "536ced27-c76d-4298-9b42-1e6537d84ed7"
      },
      "source": [
        "plt.figure(figsize=(7,5))\n",
        "ax = sns.distplot(training_data['Total_booking'],\n",
        "                  bins=10,\n",
        "                  kde=True,\n",
        "                  color='skyblue',\n",
        "                  hist_kws={\"linewidth\": 15,'alpha':1})\n",
        "ax.set(title=\"Plotting Distribution plot on Total_booking of Training data\")\n",
        "ax.set(xlabel='Probability Distribution ', ylabel='Frequency')\n",
        "\n",
        "plt.figure(figsize=(7,5))\n",
        "ax = sns.distplot(testing_data['Total_booking'],\n",
        "                  bins=10,\n",
        "                  kde=True,\n",
        "                  color='skyblue',\n",
        "                  hist_kws={\"linewidth\": 15,'alpha':1})\n",
        "ax.set(title=\"Plotting Distribution plot on Total_booking of Testing data\")\n",
        "ax.set(xlabel='Probability Distribution ', ylabel='Frequency')\n",
        "\n",
        "plt.show();"
      ],
      "execution_count": null,
      "outputs": [
        {
          "output_type": "display_data",
          "data": {
            "image/png": "[encoded data removed]",
            "text/plain": [
              "<Figure size 504x360 with 1 Axes>"
            ]
          },
          "metadata": {
            "needs_background": "light"
          }
        },
        {
          "output_type": "display_data",
          "data": {
            "image/png": "[encoded data removed]",
            "text/plain": [
              "<Figure size 504x360 with 1 Axes>"
            ]
          },
          "metadata": {
            "needs_background": "light"
          }
        }
      ]
    },
    {
      "cell_type": "markdown",
      "metadata": {
        "id": "OSoKdYax1c1F"
      },
      "source": [
        "#### Visualizing Total_booking on all categorical features"
      ]
    },
    {
      "cell_type": "code",
      "metadata": {
        "colab": {
          "base_uri": "https://localhost:8080/",
          "height": 1000
        },
        "id": "Q5gmrn7cbRVN",
        "outputId": "53afc5a7-9e7a-4763-e943-e1c85291336f"
      },
      "source": [
        "cat_cols = ['season', 'holiday', 'workingday', 'weather', 'hour', 'weekday',\n",
        "       'month']\n",
        "for col in cat_cols:\n",
        "  plt.figure(figsize=(7,5))\n",
        "  plt.title(\"Visualizing Training data (Total booking vs \"+col+')')\n",
        "  sns.boxplot(y = 'Total_booking', x = col, data=training_data)\n",
        "\n",
        "for col in cat_cols:\n",
        "  plt.figure(figsize=(7,5))\n",
        "  plt.title(\"Visualizing Testing data (Total booking vs \"+col+')')\n",
        "  sns.boxplot(y = 'Total_booking', x = col, data=testing_data)\n",
        "plt.show();"
      ],
      "execution_count": null,
      "outputs": [
        {
          "output_type": "display_data",
          "data": {
            "image/png": "[encoded data removed]",
            "text/plain": [
              "<Figure size 504x360 with 1 Axes>"
            ]
          },
          "metadata": {
            "needs_background": "light"
          }
        },
        {
          "output_type": "display_data",
          "data": {
            "image/png": "[encoded data removed]",
            "text/plain": [
              "<Figure size 504x360 with 1 Axes>"
            ]
          },
          "metadata": {
            "needs_background": "light"
          }
        },
        {
          "output_type": "display_data",
          "data": {
            "image/png": "[encoded data removed]",
            "text/plain": [
              "<Figure size 504x360 with 1 Axes>"
            ]
          },
          "metadata": {
            "needs_background": "light"
          }
        },
        {
          "output_type": "display_data",
          "data": {
            "image/png": "[encoded data removed]",
            "text/plain": [
              "<Figure size 504x360 with 1 Axes>"
            ]
          },
          "metadata": {
            "needs_background": "light"
          }
        },
        {
          "output_type": "display_data",
          "data": {
            "image/png": "[encoded data removed]",
            "text/plain": [
              "<Figure size 504x360 with 1 Axes>"
            ]
          },
          "metadata": {
            "needs_background": "light"
          }
        },
        {
          "output_type": "display_data",
          "data": {
            "image/png": "[encoded data removed]",
            "text/plain": [
              "<Figure size 504x360 with 1 Axes>"
            ]
          },
          "metadata": {
            "needs_background": "light"
          }
        },
        {
          "output_type": "display_data",
          "data": {
            "image/png": "[encoded data removed]",
            "text/plain": [
              "<Figure size 504x360 with 1 Axes>"
            ]
          },
          "metadata": {
            "needs_background": "light"
          }
        },
        {
          "output_type": "display_data",
          "data": {
            "image/png": "[encoded data removed]",
            "text/plain": [
              "<Figure size 504x360 with 1 Axes>"
            ]
          },
          "metadata": {
            "needs_background": "light"
          }
        },
        {
          "output_type": "display_data",
          "data": {
            "image/png": "[encoded data removed]",
            "text/plain": [
              "<Figure size 504x360 with 1 Axes>"
            ]
          },
          "metadata": {
            "needs_background": "light"
          }
        },
        {
          "output_type": "display_data",
          "data": {
            "image/png": "[encoded data removed]",
            "text/plain": [
              "<Figure size 504x360 with 1 Axes>"
            ]
          },
          "metadata": {
            "needs_background": "light"
          }
        },
        {
          "output_type": "display_data",
          "data": {
            "image/png": "[encoded data removed]",
            "text/plain": [
              "<Figure size 504x360 with 1 Axes>"
            ]
          },
          "metadata": {
            "needs_background": "light"
          }
        },
        {
          "output_type": "display_data",
          "data": {
            "image/png": "[encoded data removed]",
            "text/plain": [
              "<Figure size 504x360 with 1 Axes>"
            ]
          },
          "metadata": {
            "needs_background": "light"
          }
        },
        {
          "output_type": "display_data",
          "data": {
            "image/png": "[encoded data removed]",
            "text/plain": [
              "<Figure size 504x360 with 1 Axes>"
            ]
          },
          "metadata": {
            "needs_background": "light"
          }
        },
        {
          "output_type": "display_data",
          "data": {
            "image/png": "[encoded data removed]",
            "text/plain": [
              "<Figure size 504x360 with 1 Axes>"
            ]
          },
          "metadata": {
            "needs_background": "light"
          }
        }
      ]
    },
    {
      "cell_type": "markdown",
      "metadata": {
        "id": "i0x9QZsv1r1c"
      },
      "source": [
        "#### Ploting Histogram on continuous variables present in the data."
      ]
    },
    {
      "cell_type": "code",
      "metadata": {
        "colab": {
          "base_uri": "https://localhost:8080/",
          "height": 1000
        },
        "id": "eBEYHuX1iWb7",
        "outputId": "7c79d919-efa6-47c0-bf0e-9580e212bd4d"
      },
      "source": [
        "num_cols = ['temp', 'atemp','humidity', 'windspeed']\n",
        "for col in num_cols:\n",
        "  plt.figure(figsize=(7,5))\n",
        "  ax = sns.distplot(training_data[col],\n",
        "                    bins=10,\n",
        "                    kde=False,\n",
        "                    color='skyblue',\n",
        "                    hist_kws={\"linewidth\": 15,'alpha':1})\n",
        "  ax.set(title=\"Plotting Histogram for \" + col + ' of Training data' )\n",
        "\n",
        "for col in num_cols:\n",
        "  plt.figure(figsize=(7,5))\n",
        "  ax = sns.distplot(testing_data[col],\n",
        "                    bins=10,\n",
        "                    kde=False,\n",
        "                    color='skyblue',\n",
        "                    hist_kws={\"linewidth\": 15,'alpha':1})\n",
        "  ax.set(title=\"Plotting Histogram for \" + col + ' of Testing data' )\n",
        "  "
      ],
      "execution_count": null,
      "outputs": [
        {
          "output_type": "execute_result",
          "data": {
            "text/plain": [
              "<Figure size 504x360 with 0 Axes>"
            ]
          },
          "metadata": {},
          "execution_count": 158
        },
        {
          "output_type": "execute_result",
          "data": {
            "text/plain": [
              "[Text(0.5, 1.0, 'Plotting Histogram for temp of Training data')]"
            ]
          },
          "metadata": {},
          "execution_count": 158
        },
        {
          "output_type": "execute_result",
          "data": {
            "text/plain": [
              "<Figure size 504x360 with 0 Axes>"
            ]
          },
          "metadata": {},
          "execution_count": 158
        },
        {
          "output_type": "execute_result",
          "data": {
            "text/plain": [
              "[Text(0.5, 1.0, 'Plotting Histogram for atemp of Training data')]"
            ]
          },
          "metadata": {},
          "execution_count": 158
        },
        {
          "output_type": "execute_result",
          "data": {
            "text/plain": [
              "<Figure size 504x360 with 0 Axes>"
            ]
          },
          "metadata": {},
          "execution_count": 158
        },
        {
          "output_type": "execute_result",
          "data": {
            "text/plain": [
              "[Text(0.5, 1.0, 'Plotting Histogram for humidity of Training data')]"
            ]
          },
          "metadata": {},
          "execution_count": 158
        },
        {
          "output_type": "execute_result",
          "data": {
            "text/plain": [
              "<Figure size 504x360 with 0 Axes>"
            ]
          },
          "metadata": {},
          "execution_count": 158
        },
        {
          "output_type": "execute_result",
          "data": {
            "text/plain": [
              "[Text(0.5, 1.0, 'Plotting Histogram for windspeed of Training data')]"
            ]
          },
          "metadata": {},
          "execution_count": 158
        },
        {
          "output_type": "execute_result",
          "data": {
            "text/plain": [
              "<Figure size 504x360 with 0 Axes>"
            ]
          },
          "metadata": {},
          "execution_count": 158
        },
        {
          "output_type": "execute_result",
          "data": {
            "text/plain": [
              "[Text(0.5, 1.0, 'Plotting Histogram for temp of Testing data')]"
            ]
          },
          "metadata": {},
          "execution_count": 158
        },
        {
          "output_type": "execute_result",
          "data": {
            "text/plain": [
              "<Figure size 504x360 with 0 Axes>"
            ]
          },
          "metadata": {},
          "execution_count": 158
        },
        {
          "output_type": "execute_result",
          "data": {
            "text/plain": [
              "[Text(0.5, 1.0, 'Plotting Histogram for atemp of Testing data')]"
            ]
          },
          "metadata": {},
          "execution_count": 158
        },
        {
          "output_type": "execute_result",
          "data": {
            "text/plain": [
              "<Figure size 504x360 with 0 Axes>"
            ]
          },
          "metadata": {},
          "execution_count": 158
        },
        {
          "output_type": "execute_result",
          "data": {
            "text/plain": [
              "[Text(0.5, 1.0, 'Plotting Histogram for humidity of Testing data')]"
            ]
          },
          "metadata": {},
          "execution_count": 158
        },
        {
          "output_type": "execute_result",
          "data": {
            "text/plain": [
              "<Figure size 504x360 with 0 Axes>"
            ]
          },
          "metadata": {},
          "execution_count": 158
        },
        {
          "output_type": "execute_result",
          "data": {
            "text/plain": [
              "[Text(0.5, 1.0, 'Plotting Histogram for windspeed of Testing data')]"
            ]
          },
          "metadata": {},
          "execution_count": 158
        },
        {
          "output_type": "display_data",
          "data": {
            "image/png": "[encoded data removed]",
            "text/plain": [
              "<Figure size 504x360 with 1 Axes>"
            ]
          },
          "metadata": {
            "needs_background": "light"
          }
        },
        {
          "output_type": "display_data",
          "data": {
            "image/png": "[encoded data removed]",
            "text/plain": [
              "<Figure size 504x360 with 1 Axes>"
            ]
          },
          "metadata": {
            "needs_background": "light"
          }
        },
        {
          "output_type": "display_data",
          "data": {
            "image/png": "[encoded data removed]",
            "text/plain": [
              "<Figure size 504x360 with 1 Axes>"
            ]
          },
          "metadata": {
            "needs_background": "light"
          }
        },
        {
          "output_type": "display_data",
          "data": {
            "image/png": "[encoded data removed]",
            "text/plain": [
              "<Figure size 504x360 with 1 Axes>"
            ]
          },
          "metadata": {
            "needs_background": "light"
          }
        },
        {
          "output_type": "display_data",
          "data": {
            "image/png": "[encoded data removed]",
            "text/plain": [
              "<Figure size 504x360 with 1 Axes>"
            ]
          },
          "metadata": {
            "needs_background": "light"
          }
        },
        {
          "output_type": "display_data",
          "data": {
            "image/png": "[encoded data removed]",
            "text/plain": [
              "<Figure size 504x360 with 1 Axes>"
            ]
          },
          "metadata": {
            "needs_background": "light"
          }
        },
        {
          "output_type": "display_data",
          "data": {
            "image/png": "[encoded data removed]",
            "text/plain": [
              "<Figure size 504x360 with 1 Axes>"
            ]
          },
          "metadata": {
            "needs_background": "light"
          }
        },
        {
          "output_type": "display_data",
          "data": {
            "image/png": "[encoded data removed]",
            "text/plain": [
              "<Figure size 504x360 with 1 Axes>"
            ]
          },
          "metadata": {
            "needs_background": "light"
          }
        }
      ]
    },
    {
      "cell_type": "markdown",
      "metadata": {
        "id": "TjNKCsM5MS0p"
      },
      "source": [
        "## 7. Convert the categorical variables into one hot vector"
      ]
    },
    {
      "cell_type": "markdown",
      "metadata": {
        "id": "fiQKP0zrO_ck"
      },
      "source": [
        "#### Applying one hot encoding on both training and testing dataset"
      ]
    },
    {
      "cell_type": "code",
      "metadata": {
        "id": "gva5zOVbMgs_"
      },
      "source": [
        "training_data = pd.get_dummies(data=training_data,columns=['season','holiday','workingday','weather'],drop_first=True)\n",
        "testing_data = pd.get_dummies(data=testing_data,columns=['season','holiday','workingday','weather'],drop_first=True)"
      ],
      "execution_count": null,
      "outputs": []
    },
    {
      "cell_type": "markdown",
      "metadata": {
        "id": "ElWNB2PAPMgk"
      },
      "source": [
        "## 8. Split your dataset for training and testing "
      ]
    },
    {
      "cell_type": "code",
      "metadata": {
        "id": "OzcxotOdNBUx"
      },
      "source": [
        "training_data_X = training_data.drop('Total_booking',axis=1)\n",
        "training_data_y = training_data['Total_booking']\n",
        "\n",
        "testing_data_X = testing_data.drop('Total_booking',axis=1)\n",
        "testing_data_y = testing_data['Total_booking']"
      ],
      "execution_count": null,
      "outputs": []
    },
    {
      "cell_type": "code",
      "metadata": {
        "id": "s-UoMUAlQpp1"
      },
      "source": [
        "X_train,X_test,y_train,y_test = train_test_split(training_data_X,training_data_y,test_size=0.3,random_state=42)"
      ],
      "execution_count": null,
      "outputs": []
    },
    {
      "cell_type": "code",
      "metadata": {
        "colab": {
          "base_uri": "https://localhost:8080/"
        },
        "id": "c2rndyB3RJrt",
        "outputId": "d529d278-a1c6-4e9a-c750-c5e34d0de6f9"
      },
      "source": [
        "X_train.shape,X_test.shape,y_train.shape,y_test.shape"
      ],
      "execution_count": null,
      "outputs": [
        {
          "output_type": "execute_result",
          "data": {
            "text/plain": [
              "((6095, 15), (2613, 15), (6095,), (2613,))"
            ]
          },
          "metadata": {},
          "execution_count": 162
        }
      ]
    },
    {
      "cell_type": "markdown",
      "metadata": {
        "id": "4TEycG--4cDu"
      },
      "source": [
        "## 9. Fit various models (Random Forest Regressor, Ada Boost Regressor, Bagging Regressor, SVR, and K-Neighbors Regressor)"
      ]
    },
    {
      "cell_type": "code",
      "metadata": {
        "colab": {
          "base_uri": "https://localhost:8080/"
        },
        "id": "OG2qiDIpRgLJ",
        "outputId": "9ecc0e01-a483-4aee-9033-4cac0aa6e5ab"
      },
      "source": [
        "rf_reg = RandomForestRegressor()\n",
        "rf_reg.fit(X_train,y_train)\n",
        "br_reg = BaggingRegressor()\n",
        "br_reg.fit(X_train,y_train)\n",
        "kn_reg = KNeighborsRegressor()\n",
        "kn_reg .fit(X_train,y_train)\n",
        "sv_reg = SVR()\n",
        "sv_reg.fit(X_train,y_train)"
      ],
      "execution_count": null,
      "outputs": [
        {
          "output_type": "execute_result",
          "data": {
            "text/plain": [
              "RandomForestRegressor()"
            ]
          },
          "metadata": {},
          "execution_count": 163
        },
        {
          "output_type": "execute_result",
          "data": {
            "text/plain": [
              "BaggingRegressor()"
            ]
          },
          "metadata": {},
          "execution_count": 163
        },
        {
          "output_type": "execute_result",
          "data": {
            "text/plain": [
              "KNeighborsRegressor()"
            ]
          },
          "metadata": {},
          "execution_count": 163
        },
        {
          "output_type": "execute_result",
          "data": {
            "text/plain": [
              "SVR()"
            ]
          },
          "metadata": {},
          "execution_count": 163
        }
      ]
    },
    {
      "cell_type": "code",
      "metadata": {
        "id": "mCCla6LUE8WN"
      },
      "source": [
        "rf_reg_y_predict = rf_reg.predict(X_test)\n",
        "br_reg_y_predict = br_reg.predict(X_test)\n",
        "kn_reg_y_predict = kn_reg.predict(X_test)\n",
        "sv_reg_y_predict = sv_reg.predict(X_test)"
      ],
      "execution_count": null,
      "outputs": []
    },
    {
      "cell_type": "code",
      "metadata": {
        "colab": {
          "base_uri": "https://localhost:8080/"
        },
        "id": "wB7xAFCjIyzy",
        "outputId": "f2dae643-1d71-4034-8ff9-f5d6d4c4e481"
      },
      "source": [
        "rf_reg_RMSE = round(np.sqrt(mean_squared_error(y_test,rf_reg_y_predict)),2)\n",
        "br_reg_RMSE = round(np.sqrt(mean_squared_error(y_test,br_reg_y_predict)),2)\n",
        "kn_reg_RMSE = round(np.sqrt(mean_squared_error(y_test,kn_reg_y_predict)),2)\n",
        "sv_reg_RMSE = round(np.sqrt(mean_squared_error(y_test,sv_reg_y_predict)),2)\n",
        "print('Random Forest Regressor RMSE is ',rf_reg_RMSE)\n",
        "print('Bagging Regressor RMSE is ',br_reg_RMSE)\n",
        "print('KNearest Neighbours Regressor RMSE is ',kn_reg_RMSE)\n",
        "print('Support Vector Regressor RMSE is ',sv_reg_RMSE)"
      ],
      "execution_count": null,
      "outputs": [
        {
          "output_type": "stream",
          "name": "stdout",
          "text": [
            "Random Forest Regressor RMSE is  41.81\n",
            "Bagging Regressor RMSE is  43.65\n",
            "KNearest Neighbours Regressor RMSE is  146.51\n",
            "Support Vector Regressor RMSE is  186.91\n"
          ]
        }
      ]
    },
    {
      "cell_type": "markdown",
      "metadata": {
        "id": "r4RzejYUz7tF"
      },
      "source": [
        "## 10. Display a Factor plot to visualize the RMSE values achieved by different modeling algorithm "
      ]
    },
    {
      "cell_type": "code",
      "metadata": {
        "colab": {
          "base_uri": "https://localhost:8080/",
          "height": 472
        },
        "id": "ZsVQbZhYYO1W",
        "outputId": "a20e7b69-6b85-426f-ab7f-5ffb115c025c"
      },
      "source": [
        "data = {'RMSE' : [rf_reg_RMSE,br_reg_RMSE,kn_reg_RMSE,sv_reg_RMSE] ,\n",
        "        'Models' : ['Random Forest','Bagging Regressor','KNearest Neighbours','Support Vector Regressor']}\n",
        "Models_RMSE = pd.DataFrame(data)\n",
        "\n",
        "ax = sns.factorplot(x ='Models', y ='RMSE', data = Models_RMSE)\n",
        "ax.set(title=\"Factor Plot showing RMSE of different Models\")\n",
        "ax.set_xticklabels(rotation=45)\n",
        "plt.show();"
      ],
      "execution_count": null,
      "outputs": [
        {
          "output_type": "display_data",
          "data": {
            "image/png": "[encoded data removed]",
            "text/plain": [
              "<Figure size 360x360 with 1 Axes>"
            ]
          },
          "metadata": {
            "needs_background": "light"
          }
        }
      ]
    },
    {
      "cell_type": "markdown",
      "metadata": {
        "id": "mvwReINW0IDZ"
      },
      "source": [
        "## 11. Perform Hyper-parameter tuning on the best model using GridSearchCV and print the best parameters using model.best_params_"
      ]
    },
    {
      "cell_type": "code",
      "metadata": {
        "id": "kjO7sM58sQY4",
        "colab": {
          "base_uri": "https://localhost:8080/"
        },
        "outputId": "5f575ed6-0559-4a4a-fe85-0b7324a80ea0"
      },
      "source": [
        "param_grid = {\n",
        "    \"n_estimators\":[100,200,300],\n",
        "    \"max_depth\":[10, 50, 100],\n",
        "    \"max_features\":[6,8,10,12,14,16]\n",
        "}\n",
        "\n",
        "rf_reg_tuned = GridSearchCV(estimator=rf_reg,\n",
        "                            param_grid=param_grid,\n",
        "                            cv=3,\n",
        "                            n_jobs=-1,\n",
        "                            verbose=2)\n",
        "\n",
        "rf_reg_tuned.fit(X_train, y_train)"
      ],
      "execution_count": null,
      "outputs": [
        {
          "output_type": "stream",
          "name": "stdout",
          "text": [
            "Fitting 3 folds for each of 54 candidates, totalling 162 fits\n"
          ]
        },
        {
          "output_type": "execute_result",
          "data": {
            "text/plain": [
              "GridSearchCV(cv=3, estimator=RandomForestRegressor(), n_jobs=-1,\n",
              "             param_grid={'max_depth': [10, 50, 100],\n",
              "                         'max_features': [6, 8, 10, 12, 14, 16],\n",
              "                         'n_estimators': [100, 200, 300]},\n",
              "             verbose=2)"
            ]
          },
          "metadata": {},
          "execution_count": 167
        }
      ]
    },
    {
      "cell_type": "code",
      "metadata": {
        "colab": {
          "base_uri": "https://localhost:8080/"
        },
        "id": "gW9WbolLr17E",
        "outputId": "37e44852-8250-4ab6-ed34-4dcc64a958f6"
      },
      "source": [
        "rf_reg_tuned.best_params_"
      ],
      "execution_count": null,
      "outputs": [
        {
          "output_type": "execute_result",
          "data": {
            "text/plain": [
              "{'max_depth': 100, 'max_features': 14, 'n_estimators': 300}"
            ]
          },
          "metadata": {},
          "execution_count": 168
        }
      ]
    },
    {
      "cell_type": "markdown",
      "metadata": {
        "id": "3pVZHQWU0av1"
      },
      "source": [
        "## 12. Perform prediction on the test set and print the mean_squared_log_error"
      ]
    },
    {
      "cell_type": "markdown",
      "metadata": {
        "id": "ocouw_dF05yA"
      },
      "source": [
        "#### Prediction on the test set"
      ]
    },
    {
      "cell_type": "code",
      "metadata": {
        "id": "DhkPF4v5vBW6"
      },
      "source": [
        "y_predict = rf_reg_tuned.predict(testing_data_X)"
      ],
      "execution_count": null,
      "outputs": []
    },
    {
      "cell_type": "markdown",
      "metadata": {
        "id": "FFmMUifb0-Lj"
      },
      "source": [
        "#### printing the mean_squared_log_error"
      ]
    },
    {
      "cell_type": "code",
      "metadata": {
        "colab": {
          "base_uri": "https://localhost:8080/"
        },
        "id": "aiJthyY2vN91",
        "outputId": "0cd3ae17-f4bc-40f6-8049-21ecc007bd0c"
      },
      "source": [
        "print(\"Mean_squared_log_error is: \", round(mean_squared_error(testing_data_y,y_predict),2))"
      ],
      "execution_count": null,
      "outputs": [
        {
          "output_type": "stream",
          "name": "stdout",
          "text": [
            "Mean_squared_log_error is:  1538.55\n"
          ]
        }
      ]
    },
    {
      "cell_type": "markdown",
      "metadata": {
        "id": "zMpp3pNi0woE"
      },
      "source": [
        "#### DataFrame showing Actual & Predicted Value"
      ]
    },
    {
      "cell_type": "code",
      "metadata": {
        "colab": {
          "base_uri": "https://localhost:8080/",
          "height": 424
        },
        "id": "KEoT0Xg4vtLf",
        "outputId": "25e611dd-672c-49fa-e1ae-0cac8f014e46"
      },
      "source": [
        "pd.DataFrame({'Actual_value' : testing_data_y,'Predicted_value' : y_predict})"
      ],
      "execution_count": null,
      "outputs": [
        {
          "output_type": "execute_result",
          "data": {
            "text/html": [
              "<div>\n",
              "<style scoped>\n",
              "    .dataframe tbody tr th:only-of-type {\n",
              "        vertical-align: middle;\n",
              "    }\n",
              "\n",
              "    .dataframe tbody tr th {\n",
              "        vertical-align: top;\n",
              "    }\n",
              "\n",
              "    .dataframe thead th {\n",
              "        text-align: right;\n",
              "    }\n",
              "</style>\n",
              "<table border=\"1\" class=\"dataframe\">\n",
              "  <thead>\n",
              "    <tr style=\"text-align: right;\">\n",
              "      <th></th>\n",
              "      <th>Actual_value</th>\n",
              "      <th>Predicted_value</th>\n",
              "    </tr>\n",
              "  </thead>\n",
              "  <tbody>\n",
              "    <tr>\n",
              "      <th>0</th>\n",
              "      <td>256</td>\n",
              "      <td>236.576667</td>\n",
              "    </tr>\n",
              "    <tr>\n",
              "      <th>1</th>\n",
              "      <td>87</td>\n",
              "      <td>71.640000</td>\n",
              "    </tr>\n",
              "    <tr>\n",
              "      <th>2</th>\n",
              "      <td>11</td>\n",
              "      <td>36.946667</td>\n",
              "    </tr>\n",
              "    <tr>\n",
              "      <th>3</th>\n",
              "      <td>84</td>\n",
              "      <td>130.546667</td>\n",
              "    </tr>\n",
              "    <tr>\n",
              "      <th>4</th>\n",
              "      <td>668</td>\n",
              "      <td>615.110000</td>\n",
              "    </tr>\n",
              "    <tr>\n",
              "      <th>...</th>\n",
              "      <td>...</td>\n",
              "      <td>...</td>\n",
              "    </tr>\n",
              "    <tr>\n",
              "      <th>2173</th>\n",
              "      <td>3</td>\n",
              "      <td>3.806667</td>\n",
              "    </tr>\n",
              "    <tr>\n",
              "      <th>2174</th>\n",
              "      <td>144</td>\n",
              "      <td>130.356667</td>\n",
              "    </tr>\n",
              "    <tr>\n",
              "      <th>2175</th>\n",
              "      <td>159</td>\n",
              "      <td>134.083333</td>\n",
              "    </tr>\n",
              "    <tr>\n",
              "      <th>2176</th>\n",
              "      <td>29</td>\n",
              "      <td>23.936667</td>\n",
              "    </tr>\n",
              "    <tr>\n",
              "      <th>2177</th>\n",
              "      <td>224</td>\n",
              "      <td>416.083333</td>\n",
              "    </tr>\n",
              "  </tbody>\n",
              "</table>\n",
              "<p>2178 rows × 2 columns</p>\n",
              "</div>"
            ],
            "text/plain": [
              "      Actual_value  Predicted_value\n",
              "0              256       236.576667\n",
              "1               87        71.640000\n",
              "2               11        36.946667\n",
              "3               84       130.546667\n",
              "4              668       615.110000\n",
              "...            ...              ...\n",
              "2173             3         3.806667\n",
              "2174           144       130.356667\n",
              "2175           159       134.083333\n",
              "2176            29        23.936667\n",
              "2177           224       416.083333\n",
              "\n",
              "[2178 rows x 2 columns]"
            ]
          },
          "metadata": {},
          "execution_count": 171
        }
      ]
    },
    {
      "cell_type": "markdown",
      "metadata": {
        "id": "bRfBbWeJ2FJn"
      },
      "source": [
        "#<h1><center> **End**</center></h1>\n",
        "\n",
        "\n",
        "\n",
        "\n",
        "\n"
      ]
    }
  ]
}